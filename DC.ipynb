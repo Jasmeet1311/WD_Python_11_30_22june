{
 "cells": [
  {
   "cell_type": "code",
   "execution_count": 1,
   "id": "a205385e",
   "metadata": {},
   "outputs": [],
   "source": [
    "# list of integer.\n",
    "a = [34,56,78,90,12,-90,34,23]"
   ]
  },
  {
   "cell_type": "code",
   "execution_count": 2,
   "id": "40ad84b1",
   "metadata": {},
   "outputs": [
    {
     "name": "stdout",
     "output_type": "stream",
     "text": [
      "[34, 56, 78, 90, 12, -90, 34, 23]\n"
     ]
    }
   ],
   "source": [
    "print(a)"
   ]
  },
  {
   "cell_type": "code",
   "execution_count": 3,
   "id": "60b61d81",
   "metadata": {},
   "outputs": [
    {
     "data": {
      "text/plain": [
       "list"
      ]
     },
     "execution_count": 3,
     "metadata": {},
     "output_type": "execute_result"
    }
   ],
   "source": [
    "type(a)"
   ]
  },
  {
   "cell_type": "code",
   "execution_count": 4,
   "id": "f2c3b3b0",
   "metadata": {},
   "outputs": [
    {
     "name": "stdout",
     "output_type": "stream",
     "text": [
      "['Python', 'SQL', 'OP', 'OG']\n"
     ]
    }
   ],
   "source": [
    "# string---->\n",
    "x = ['Python','SQL','OP','OG']\n",
    "print(x)"
   ]
  },
  {
   "cell_type": "code",
   "execution_count": 5,
   "id": "48af4851",
   "metadata": {},
   "outputs": [
    {
     "data": {
      "text/plain": [
       "list"
      ]
     },
     "execution_count": 5,
     "metadata": {},
     "output_type": "execute_result"
    }
   ],
   "source": [
    "type(x)"
   ]
  },
  {
   "cell_type": "code",
   "execution_count": 39,
   "id": "f5da100b",
   "metadata": {},
   "outputs": [],
   "source": [
    "# mix\n",
    "x = [45,56,78,'hello bahi','kuch bhi',34.8,45.67,True]"
   ]
  },
  {
   "cell_type": "code",
   "execution_count": 7,
   "id": "f08168ef",
   "metadata": {},
   "outputs": [
    {
     "name": "stdout",
     "output_type": "stream",
     "text": [
      "[45, 56, 78, 'hello bahi', 'kuch bhi', 34.8, 45.67, True]\n"
     ]
    }
   ],
   "source": [
    "print(x)"
   ]
  },
  {
   "cell_type": "code",
   "execution_count": 8,
   "id": "8052555c",
   "metadata": {},
   "outputs": [
    {
     "data": {
      "text/plain": [
       "list"
      ]
     },
     "execution_count": 8,
     "metadata": {},
     "output_type": "execute_result"
    }
   ],
   "source": [
    "type(x)"
   ]
  },
  {
   "cell_type": "code",
   "execution_count": 9,
   "id": "a23a5edd",
   "metadata": {},
   "outputs": [
    {
     "data": {
      "text/plain": [
       "[45, 56, 78, 'hello bahi', 'kuch bhi', 34.8, 45.67, True]"
      ]
     },
     "execution_count": 9,
     "metadata": {},
     "output_type": "execute_result"
    }
   ],
   "source": [
    "x"
   ]
  },
  {
   "cell_type": "markdown",
   "id": "3e85a781",
   "metadata": {},
   "source": [
    "# Slicing & indexing"
   ]
  },
  {
   "cell_type": "code",
   "execution_count": 10,
   "id": "fc9c232c",
   "metadata": {},
   "outputs": [
    {
     "data": {
      "text/plain": [
       "8"
      ]
     },
     "execution_count": 10,
     "metadata": {},
     "output_type": "execute_result"
    }
   ],
   "source": [
    "len(x)"
   ]
  },
  {
   "cell_type": "code",
   "execution_count": 11,
   "id": "ca0b302c",
   "metadata": {},
   "outputs": [
    {
     "data": {
      "text/plain": [
       "[45, 56, 78, 'hello bahi', 'kuch bhi', 34.8, 45.67, True]"
      ]
     },
     "execution_count": 11,
     "metadata": {},
     "output_type": "execute_result"
    }
   ],
   "source": [
    "x"
   ]
  },
  {
   "cell_type": "code",
   "execution_count": 12,
   "id": "555986fe",
   "metadata": {},
   "outputs": [
    {
     "name": "stdout",
     "output_type": "stream",
     "text": [
      "0\n"
     ]
    }
   ],
   "source": [
    "# print(x[0])\n",
    "print(0)"
   ]
  },
  {
   "cell_type": "code",
   "execution_count": 14,
   "id": "311eae7a",
   "metadata": {},
   "outputs": [
    {
     "data": {
      "text/plain": [
       "45"
      ]
     },
     "execution_count": 14,
     "metadata": {},
     "output_type": "execute_result"
    }
   ],
   "source": [
    "x[0]"
   ]
  },
  {
   "cell_type": "code",
   "execution_count": 16,
   "id": "bc8f8360",
   "metadata": {},
   "outputs": [
    {
     "data": {
      "text/plain": [
       "45.67"
      ]
     },
     "execution_count": 16,
     "metadata": {},
     "output_type": "execute_result"
    }
   ],
   "source": [
    "x[-2]"
   ]
  },
  {
   "cell_type": "code",
   "execution_count": 18,
   "id": "c48fd226",
   "metadata": {},
   "outputs": [
    {
     "data": {
      "text/plain": [
       "[56, 78, 'hello bahi']"
      ]
     },
     "execution_count": 18,
     "metadata": {},
     "output_type": "execute_result"
    }
   ],
   "source": [
    "x[1:4]"
   ]
  },
  {
   "cell_type": "code",
   "execution_count": 21,
   "id": "233d951f",
   "metadata": {},
   "outputs": [
    {
     "data": {
      "text/plain": [
       "[34.8, 'kuch bhi', 'hello bahi', 78]"
      ]
     },
     "execution_count": 21,
     "metadata": {},
     "output_type": "execute_result"
    }
   ],
   "source": [
    "x[-3:-7:-1]"
   ]
  },
  {
   "cell_type": "code",
   "execution_count": 20,
   "id": "5de2b5bb",
   "metadata": {},
   "outputs": [
    {
     "data": {
      "text/plain": [
       "[45, 56, 78, 'hello bahi', 'kuch bhi', 34.8, 45.67, True]"
      ]
     },
     "execution_count": 20,
     "metadata": {},
     "output_type": "execute_result"
    }
   ],
   "source": [
    "x"
   ]
  },
  {
   "cell_type": "code",
   "execution_count": 25,
   "id": "5ea7ce02",
   "metadata": {},
   "outputs": [
    {
     "data": {
      "text/plain": [
       "[78, 'hello bahi', 'kuch bhi', 34.8]"
      ]
     },
     "execution_count": 25,
     "metadata": {},
     "output_type": "execute_result"
    }
   ],
   "source": [
    "x[2:6]"
   ]
  },
  {
   "cell_type": "code",
   "execution_count": 26,
   "id": "04394da7",
   "metadata": {},
   "outputs": [
    {
     "data": {
      "text/plain": [
       "[45, 56, 78, 'hello bahi', 'kuch bhi', 34.8, 45.67, True]"
      ]
     },
     "execution_count": 26,
     "metadata": {},
     "output_type": "execute_result"
    }
   ],
   "source": [
    "# Mutable/ immuatble----->   \n",
    "x"
   ]
  },
  {
   "cell_type": "code",
   "execution_count": 28,
   "id": "f14754f2",
   "metadata": {},
   "outputs": [],
   "source": [
    "x[2] = 'kuch bhi'"
   ]
  },
  {
   "cell_type": "code",
   "execution_count": 29,
   "id": "699c8c85",
   "metadata": {},
   "outputs": [
    {
     "data": {
      "text/plain": [
       "[45, 56, 'kuch bhi', 'hello bahi', 'kuch bhi', 34.8, 45.67, True]"
      ]
     },
     "execution_count": 29,
     "metadata": {},
     "output_type": "execute_result"
    }
   ],
   "source": [
    "x"
   ]
  },
  {
   "cell_type": "code",
   "execution_count": 30,
   "id": "67db7e46",
   "metadata": {},
   "outputs": [
    {
     "data": {
      "text/plain": [
       "[45, 56, 'kuch bhi', 'hello bahi', 'kuch bhi', 34.8, 45.67, True]"
      ]
     },
     "execution_count": 30,
     "metadata": {},
     "output_type": "execute_result"
    }
   ],
   "source": [
    "x"
   ]
  },
  {
   "cell_type": "code",
   "execution_count": 37,
   "id": "286f61ca",
   "metadata": {},
   "outputs": [],
   "source": [
    "x[2:5]=[34]"
   ]
  },
  {
   "cell_type": "code",
   "execution_count": 38,
   "id": "66e5cb7c",
   "metadata": {},
   "outputs": [
    {
     "data": {
      "text/plain": [
       "[45, 56, 34, 45.67, True]"
      ]
     },
     "execution_count": 38,
     "metadata": {},
     "output_type": "execute_result"
    }
   ],
   "source": [
    "x"
   ]
  },
  {
   "cell_type": "code",
   "execution_count": 40,
   "id": "8940b307",
   "metadata": {},
   "outputs": [
    {
     "data": {
      "text/plain": [
       "[45, 56, 78, 'hello bahi', 'kuch bhi', 34.8, 45.67, True]"
      ]
     },
     "execution_count": 40,
     "metadata": {},
     "output_type": "execute_result"
    }
   ],
   "source": [
    "x"
   ]
  },
  {
   "cell_type": "code",
   "execution_count": 42,
   "id": "a929486f",
   "metadata": {},
   "outputs": [],
   "source": [
    "x[0]='Ankit'"
   ]
  },
  {
   "cell_type": "code",
   "execution_count": 43,
   "id": "3e014c74",
   "metadata": {},
   "outputs": [
    {
     "data": {
      "text/plain": [
       "['Ankit', 56, 78, 'hello bahi', 'kuch bhi', 34.8, 45.67, True]"
      ]
     },
     "execution_count": 43,
     "metadata": {},
     "output_type": "execute_result"
    }
   ],
   "source": [
    "x"
   ]
  },
  {
   "cell_type": "code",
   "execution_count": 46,
   "id": "ba991a74",
   "metadata": {},
   "outputs": [],
   "source": [
    "x [3:5] = [1,2]"
   ]
  },
  {
   "cell_type": "code",
   "execution_count": 47,
   "id": "1753e02d",
   "metadata": {},
   "outputs": [
    {
     "data": {
      "text/plain": [
       "['Ankit', 56, 78, 1, 2, 34.8, 45.67, True]"
      ]
     },
     "execution_count": 47,
     "metadata": {},
     "output_type": "execute_result"
    }
   ],
   "source": [
    "x"
   ]
  },
  {
   "cell_type": "code",
   "execution_count": 48,
   "id": "52095045",
   "metadata": {},
   "outputs": [
    {
     "name": "stdout",
     "output_type": "stream",
     "text": [
      "[]\n"
     ]
    }
   ],
   "source": [
    "#wap to make a empty list.\n",
    "# wap to make a single element list.\n",
    "# empty list\n",
    "a = []\n",
    "print(a)"
   ]
  },
  {
   "cell_type": "code",
   "execution_count": 49,
   "id": "14e88dad",
   "metadata": {},
   "outputs": [
    {
     "data": {
      "text/plain": [
       "list"
      ]
     },
     "execution_count": 49,
     "metadata": {},
     "output_type": "execute_result"
    }
   ],
   "source": [
    "type(a)"
   ]
  },
  {
   "cell_type": "code",
   "execution_count": 50,
   "id": "7fa42671",
   "metadata": {},
   "outputs": [
    {
     "name": "stdout",
     "output_type": "stream",
     "text": [
      "[1]\n"
     ]
    }
   ],
   "source": [
    "a = [1]\n",
    "print(a)"
   ]
  },
  {
   "cell_type": "code",
   "execution_count": 51,
   "id": "3e341b27",
   "metadata": {},
   "outputs": [
    {
     "data": {
      "text/plain": [
       "list"
      ]
     },
     "execution_count": 51,
     "metadata": {},
     "output_type": "execute_result"
    }
   ],
   "source": [
    "type(a)"
   ]
  },
  {
   "cell_type": "code",
   "execution_count": 52,
   "id": "aa5aecaa",
   "metadata": {},
   "outputs": [
    {
     "data": {
      "text/plain": [
       "['Ankit', 56, 78, 1, 2, 34.8, 45.67, True]"
      ]
     },
     "execution_count": 52,
     "metadata": {},
     "output_type": "execute_result"
    }
   ],
   "source": [
    "#list methods\n",
    "# append----->\n",
    "# insert\n",
    "# count\n",
    "# remove\n",
    "# pop\n",
    "# extend\n",
    "# sort\n",
    "# reverse\n",
    "x\n",
    "\n"
   ]
  },
  {
   "cell_type": "code",
   "execution_count": 53,
   "id": "85b972f2",
   "metadata": {},
   "outputs": [
    {
     "data": {
      "text/plain": [
       "['Ankit', 56, 78, 1, 2, 34.8, 45.67, True]"
      ]
     },
     "execution_count": 53,
     "metadata": {},
     "output_type": "execute_result"
    }
   ],
   "source": [
    "# append---->\n",
    "\n",
    "x"
   ]
  },
  {
   "cell_type": "code",
   "execution_count": 55,
   "id": "62a94dcc",
   "metadata": {},
   "outputs": [],
   "source": [
    "x.append(0)"
   ]
  },
  {
   "cell_type": "code",
   "execution_count": 56,
   "id": "a1d5a8fb",
   "metadata": {},
   "outputs": [
    {
     "data": {
      "text/plain": [
       "['Ankit', 56, 78, 1, 2, 34.8, 45.67, True, 0]"
      ]
     },
     "execution_count": 56,
     "metadata": {},
     "output_type": "execute_result"
    }
   ],
   "source": [
    "x"
   ]
  },
  {
   "cell_type": "code",
   "execution_count": 58,
   "id": "1c68f392",
   "metadata": {},
   "outputs": [],
   "source": [
    "# insert------>\n",
    "x.insert(0,12)"
   ]
  },
  {
   "cell_type": "code",
   "execution_count": 59,
   "id": "ec9489f7",
   "metadata": {},
   "outputs": [
    {
     "data": {
      "text/plain": [
       "[12, 'Ankit', 56, 78, 1, 2, 34.8, 45.67, True, 0]"
      ]
     },
     "execution_count": 59,
     "metadata": {},
     "output_type": "execute_result"
    }
   ],
   "source": [
    "x"
   ]
  },
  {
   "cell_type": "code",
   "execution_count": 61,
   "id": "dc8f8f5e",
   "metadata": {},
   "outputs": [
    {
     "data": {
      "text/plain": [
       "1"
      ]
     },
     "execution_count": 61,
     "metadata": {},
     "output_type": "execute_result"
    }
   ],
   "source": [
    "# count\n",
    "x.count(0)"
   ]
  },
  {
   "cell_type": "code",
   "execution_count": 62,
   "id": "10d0d032",
   "metadata": {},
   "outputs": [
    {
     "data": {
      "text/plain": [
       "2"
      ]
     },
     "execution_count": 62,
     "metadata": {},
     "output_type": "execute_result"
    }
   ],
   "source": [
    "x.count(1)"
   ]
  },
  {
   "cell_type": "code",
   "execution_count": 63,
   "id": "822b5f43",
   "metadata": {},
   "outputs": [
    {
     "data": {
      "text/plain": [
       "0"
      ]
     },
     "execution_count": 63,
     "metadata": {},
     "output_type": "execute_result"
    }
   ],
   "source": [
    "x.count(3)"
   ]
  },
  {
   "cell_type": "code",
   "execution_count": 64,
   "id": "0a11455d",
   "metadata": {},
   "outputs": [
    {
     "data": {
      "text/plain": [
       "[12, 'Ankit', 56, 78, 1, 2, 34.8, 45.67, True, 0]"
      ]
     },
     "execution_count": 64,
     "metadata": {},
     "output_type": "execute_result"
    }
   ],
   "source": [
    "x"
   ]
  },
  {
   "cell_type": "code",
   "execution_count": 65,
   "id": "c557fbf8",
   "metadata": {},
   "outputs": [
    {
     "data": {
      "text/plain": [
       "2"
      ]
     },
     "execution_count": 65,
     "metadata": {},
     "output_type": "execute_result"
    }
   ],
   "source": [
    "x.count(1)"
   ]
  },
  {
   "cell_type": "code",
   "execution_count": 78,
   "id": "7480a335",
   "metadata": {},
   "outputs": [],
   "source": [
    "x = [12, 'Ankit', False,56, 78, 1, 2, 34.8,True, 45.67, 0]"
   ]
  },
  {
   "cell_type": "code",
   "execution_count": 73,
   "id": "2c13b92d",
   "metadata": {},
   "outputs": [
    {
     "data": {
      "text/plain": [
       "[12, 'Ankit', False, 56, 78, 1, 2, 34.8, 45.67, 0]"
      ]
     },
     "execution_count": 73,
     "metadata": {},
     "output_type": "execute_result"
    }
   ],
   "source": [
    "x"
   ]
  },
  {
   "cell_type": "code",
   "execution_count": 71,
   "id": "0c7dcfd0",
   "metadata": {},
   "outputs": [
    {
     "data": {
      "text/plain": [
       "2"
      ]
     },
     "execution_count": 71,
     "metadata": {},
     "output_type": "execute_result"
    }
   ],
   "source": [
    "x.count(0)"
   ]
  },
  {
   "cell_type": "code",
   "execution_count": 79,
   "id": "616f451e",
   "metadata": {},
   "outputs": [
    {
     "data": {
      "text/plain": [
       "2"
      ]
     },
     "execution_count": 79,
     "metadata": {},
     "output_type": "execute_result"
    }
   ],
   "source": [
    "x.count(1)"
   ]
  },
  {
   "cell_type": "code",
   "execution_count": 80,
   "id": "48483246",
   "metadata": {},
   "outputs": [
    {
     "data": {
      "text/plain": [
       "2"
      ]
     },
     "execution_count": 80,
     "metadata": {},
     "output_type": "execute_result"
    }
   ],
   "source": [
    "x.count(True)"
   ]
  },
  {
   "cell_type": "code",
   "execution_count": 82,
   "id": "7c7c10c8",
   "metadata": {},
   "outputs": [
    {
     "data": {
      "text/plain": [
       "[12, 'Ankit', False, 56, 78, 1, 2, 34.8, True, 45.67, 0]"
      ]
     },
     "execution_count": 82,
     "metadata": {},
     "output_type": "execute_result"
    }
   ],
   "source": [
    "# sort---->\n",
    "x"
   ]
  },
  {
   "cell_type": "code",
   "execution_count": 83,
   "id": "77973eed",
   "metadata": {},
   "outputs": [
    {
     "ename": "TypeError",
     "evalue": "'<' not supported between instances of 'str' and 'int'",
     "output_type": "error",
     "traceback": [
      "\u001b[1;31m---------------------------------------------------------------------------\u001b[0m",
      "\u001b[1;31mTypeError\u001b[0m                                 Traceback (most recent call last)",
      "\u001b[1;32m~\\AppData\\Local\\Temp/ipykernel_11428/1937178097.py\u001b[0m in \u001b[0;36m<module>\u001b[1;34m\u001b[0m\n\u001b[1;32m----> 1\u001b[1;33m \u001b[0mx\u001b[0m\u001b[1;33m.\u001b[0m\u001b[0msort\u001b[0m\u001b[1;33m(\u001b[0m\u001b[1;33m)\u001b[0m\u001b[1;33m\u001b[0m\u001b[1;33m\u001b[0m\u001b[0m\n\u001b[0m",
      "\u001b[1;31mTypeError\u001b[0m: '<' not supported between instances of 'str' and 'int'"
     ]
    }
   ],
   "source": [
    "x.sort()"
   ]
  },
  {
   "cell_type": "code",
   "execution_count": 87,
   "id": "f08e7d2e",
   "metadata": {},
   "outputs": [],
   "source": [
    "a = [ 34,87,23,12,90,89.3]\n",
    "a.sort()\n"
   ]
  },
  {
   "cell_type": "code",
   "execution_count": 85,
   "id": "37d0dbf8",
   "metadata": {},
   "outputs": [
    {
     "data": {
      "text/plain": [
       "[12, 23, 34, 87, 89.3, 90]"
      ]
     },
     "execution_count": 85,
     "metadata": {},
     "output_type": "execute_result"
    }
   ],
   "source": [
    "a"
   ]
  },
  {
   "cell_type": "code",
   "execution_count": 88,
   "id": "58dc02e6",
   "metadata": {},
   "outputs": [],
   "source": [
    "a = [ 34,87,23,12,90,89.3]\n",
    "a.reverse()"
   ]
  },
  {
   "cell_type": "code",
   "execution_count": 89,
   "id": "4a08c534",
   "metadata": {},
   "outputs": [
    {
     "data": {
      "text/plain": [
       "[89.3, 90, 12, 23, 87, 34]"
      ]
     },
     "execution_count": 89,
     "metadata": {},
     "output_type": "execute_result"
    }
   ],
   "source": [
    "a"
   ]
  },
  {
   "cell_type": "code",
   "execution_count": 90,
   "id": "fccf66c5",
   "metadata": {},
   "outputs": [
    {
     "data": {
      "text/plain": [
       "[89.3, 90, 12, 23, 87, 34]"
      ]
     },
     "execution_count": 90,
     "metadata": {},
     "output_type": "execute_result"
    }
   ],
   "source": [
    "a"
   ]
  },
  {
   "cell_type": "code",
   "execution_count": 91,
   "id": "11d1fb4d",
   "metadata": {},
   "outputs": [],
   "source": [
    "a.sort(reverse=True)"
   ]
  },
  {
   "cell_type": "code",
   "execution_count": 92,
   "id": "3543fefc",
   "metadata": {},
   "outputs": [
    {
     "data": {
      "text/plain": [
       "[90, 89.3, 87, 34, 23, 12]"
      ]
     },
     "execution_count": 92,
     "metadata": {},
     "output_type": "execute_result"
    }
   ],
   "source": [
    "a"
   ]
  },
  {
   "cell_type": "code",
   "execution_count": 93,
   "id": "bb6d325c",
   "metadata": {},
   "outputs": [
    {
     "data": {
      "text/plain": [
       "12"
      ]
     },
     "execution_count": 93,
     "metadata": {},
     "output_type": "execute_result"
    }
   ],
   "source": [
    "# pop---->\n",
    "a.pop()"
   ]
  },
  {
   "cell_type": "code",
   "execution_count": 94,
   "id": "819c0b18",
   "metadata": {},
   "outputs": [
    {
     "data": {
      "text/plain": [
       "[90, 89.3, 87, 34, 23]"
      ]
     },
     "execution_count": 94,
     "metadata": {},
     "output_type": "execute_result"
    }
   ],
   "source": [
    "a"
   ]
  },
  {
   "cell_type": "code",
   "execution_count": 97,
   "id": "c06b663d",
   "metadata": {},
   "outputs": [],
   "source": [
    "# remove\n",
    "a.remove(90)"
   ]
  },
  {
   "cell_type": "code",
   "execution_count": 98,
   "id": "9e691b38",
   "metadata": {},
   "outputs": [
    {
     "data": {
      "text/plain": [
       "[89.3, 87, 34, 23]"
      ]
     },
     "execution_count": 98,
     "metadata": {},
     "output_type": "execute_result"
    }
   ],
   "source": [
    "a"
   ]
  },
  {
   "cell_type": "code",
   "execution_count": 99,
   "id": "2d9156c5",
   "metadata": {},
   "outputs": [
    {
     "data": {
      "text/plain": [
       "34"
      ]
     },
     "execution_count": 99,
     "metadata": {},
     "output_type": "execute_result"
    }
   ],
   "source": [
    "# pop\n",
    "a.pop(2)"
   ]
  },
  {
   "cell_type": "code",
   "execution_count": 100,
   "id": "fb8b92b9",
   "metadata": {},
   "outputs": [
    {
     "data": {
      "text/plain": [
       "[89.3, 87, 23]"
      ]
     },
     "execution_count": 100,
     "metadata": {},
     "output_type": "execute_result"
    }
   ],
   "source": [
    "a"
   ]
  },
  {
   "cell_type": "code",
   "execution_count": 103,
   "id": "479847a4",
   "metadata": {},
   "outputs": [
    {
     "name": "stdout",
     "output_type": "stream",
     "text": [
      "90\n"
     ]
    }
   ],
   "source": [
    "#wap to find Maximum of numbers in a list \n",
    "#wap to find Minimum of  numbers in list.\n",
    "\n",
    "x = [56,23,90,0,23,-89,12,45]\n",
    "y = 0 \n",
    "for i in x:\n",
    "    if y<i:\n",
    "        y = i\n",
    "print(y)\n",
    "\n",
    "\n"
   ]
  },
  {
   "cell_type": "code",
   "execution_count": 106,
   "id": "e77f79cb",
   "metadata": {},
   "outputs": [
    {
     "name": "stdout",
     "output_type": "stream",
     "text": [
      "-89\n"
     ]
    }
   ],
   "source": [
    "x = [56,23,90,0,23,-89,12,45]\n",
    "y = 0 \n",
    "for i in x:\n",
    "    if y>i:\n",
    "        y = i\n",
    "print(y)\n"
   ]
  },
  {
   "cell_type": "code",
   "execution_count": null,
   "id": "41de9aa3",
   "metadata": {},
   "outputs": [],
   "source": []
  }
 ],
 "metadata": {
  "kernelspec": {
   "display_name": "Python 3 (ipykernel)",
   "language": "python",
   "name": "python3"
  },
  "language_info": {
   "codemirror_mode": {
    "name": "ipython",
    "version": 3
   },
   "file_extension": ".py",
   "mimetype": "text/x-python",
   "name": "python",
   "nbconvert_exporter": "python",
   "pygments_lexer": "ipython3",
   "version": "3.9.7"
  }
 },
 "nbformat": 4,
 "nbformat_minor": 5
}
