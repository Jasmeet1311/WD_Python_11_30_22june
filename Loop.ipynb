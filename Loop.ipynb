{
 "cells": [
  {
   "cell_type": "code",
   "execution_count": null,
   "id": "e73cb83c",
   "metadata": {},
   "outputs": [],
   "source": [
    "# A student will not be allowed to sit in exam if \n",
    "# his/her attendance is less than 75%.\n",
    "# Take following input from user\n",
    "# Number of classes held\n",
    "# Number of classes attended.\n",
    "# And print\n",
    "# percentage of class attended\n",
    "# Is student is allowed to sit in exam or not.\n",
    "\n",
    "\n",
    "\n",
    "\n",
    "\n",
    "\n",
    "# Modify the above question to allow student to sit\n",
    "# if he/she has medical cause. \n",
    "# Ask user if \n",
    "# he/she has medical cause\n",
    "# or not ( 'Y' or 'N' ) and print accordingly.\n"
   ]
  },
  {
   "cell_type": "code",
   "execution_count": 9,
   "id": "edd688ad",
   "metadata": {},
   "outputs": [
    {
     "name": "stdout",
     "output_type": "stream",
     "text": [
      "Not Allowed\n",
      "Do you have any medical condition type Y for Yes and N for NOY\n",
      "Allowed\n"
     ]
    }
   ],
   "source": [
    "num_of_class_held = int(input(\"Enter the class held\"))\n",
    "num_of_class_attend = int(input(\"Enter the class attend\"))\n",
    "per = (num_of_class_attend / num_of_class_held) * 100\n",
    "\n",
    "if per<75:\n",
    "    print(\"Not Allowed\")\n",
    "    con = input(\"Do you have any medical condition type Y for Yes and N for NO\")\n",
    "    if con == \"Y\":\n",
    "        print(\"Allowed\")\n",
    "    else:\n",
    "        print(\"Not allowed\")\n",
    "else:\n",
    "    print(\"Allowed\")"
   ]
  },
  {
   "cell_type": "markdown",
   "id": "4838f6fb",
   "metadata": {},
   "source": [
    "# Loop"
   ]
  },
  {
   "cell_type": "code",
   "execution_count": 10,
   "id": "e677556a",
   "metadata": {},
   "outputs": [
    {
     "name": "stdout",
     "output_type": "stream",
     "text": [
      "0\n",
      "1\n",
      "2\n",
      "3\n",
      "4\n",
      "5\n",
      "6\n",
      "7\n",
      "8\n",
      "9\n"
     ]
    }
   ],
   "source": [
    "# for & while\n",
    "\n",
    "# syntax for for loop\n",
    "\n",
    "# for variable in range(define the range):\n",
    "#     print(varibale)\n",
    "\n",
    "# wap to print from 0-10.\n",
    "\n",
    "\n",
    "\n",
    "for i in range(10):\n",
    "    print(i)\n",
    "\n"
   ]
  },
  {
   "cell_type": "code",
   "execution_count": 11,
   "id": "2674fb29",
   "metadata": {},
   "outputs": [
    {
     "name": "stdout",
     "output_type": "stream",
     "text": [
      "2\n",
      "3\n",
      "4\n",
      "5\n",
      "6\n",
      "7\n",
      "8\n",
      "9\n"
     ]
    }
   ],
   "source": [
    "#wap to print numberzs from 2-10\n",
    "for i in range(2,10):\n",
    "    print(i)"
   ]
  },
  {
   "cell_type": "code",
   "execution_count": 21,
   "id": "7f5ae282",
   "metadata": {},
   "outputs": [
    {
     "name": "stdout",
     "output_type": "stream",
     "text": [
      "3\n",
      "4\n",
      "5\n",
      "6\n",
      "7\n",
      "8\n",
      "9\n",
      "10\n",
      "11\n",
      "12\n",
      "13\n",
      "14\n",
      "15\n",
      "16\n",
      "17\n",
      "18\n",
      "19\n",
      "20\n",
      "21\n",
      "22\n",
      "23\n",
      "24\n",
      "25\n",
      "26\n",
      "27\n",
      "28\n",
      "29\n",
      "30\n",
      "31\n",
      "32\n",
      "33\n",
      "34\n",
      "35\n",
      "36\n",
      "37\n",
      "38\n",
      "39\n",
      "40\n",
      "41\n",
      "42\n",
      "43\n",
      "44\n",
      "45\n",
      "46\n",
      "47\n",
      "48\n",
      "49\n",
      "50\n",
      "51\n",
      "52\n"
     ]
    }
   ],
   "source": [
    "#wap to find the number from 1-50 \n",
    "# number should be in alternative form.\n",
    "\n",
    "for i in range(1,51):\n",
    "    i = i+2\n",
    "    print(i)"
   ]
  },
  {
   "cell_type": "code",
   "execution_count": 25,
   "id": "af93bb4d",
   "metadata": {},
   "outputs": [
    {
     "ename": "ValueError",
     "evalue": "range() arg 3 must not be zero",
     "output_type": "error",
     "traceback": [
      "\u001b[1;31m---------------------------------------------------------------------------\u001b[0m",
      "\u001b[1;31mValueError\u001b[0m                                Traceback (most recent call last)",
      "\u001b[1;32m~\\AppData\\Local\\Temp/ipykernel_13240/3379262385.py\u001b[0m in \u001b[0;36m<module>\u001b[1;34m\u001b[0m\n\u001b[1;32m----> 1\u001b[1;33m \u001b[1;32mfor\u001b[0m \u001b[0mi\u001b[0m \u001b[1;32min\u001b[0m \u001b[0mrange\u001b[0m\u001b[1;33m(\u001b[0m\u001b[1;36m1\u001b[0m\u001b[1;33m,\u001b[0m\u001b[1;36m51\u001b[0m\u001b[1;33m,\u001b[0m\u001b[1;36m0\u001b[0m\u001b[1;33m)\u001b[0m\u001b[1;33m:\u001b[0m\u001b[1;33m\u001b[0m\u001b[1;33m\u001b[0m\u001b[0m\n\u001b[0m\u001b[0;32m      2\u001b[0m     \u001b[0mprint\u001b[0m\u001b[1;33m(\u001b[0m\u001b[0mi\u001b[0m\u001b[1;33m)\u001b[0m\u001b[1;33m\u001b[0m\u001b[1;33m\u001b[0m\u001b[0m\n",
      "\u001b[1;31mValueError\u001b[0m: range() arg 3 must not be zero"
     ]
    }
   ],
   "source": [
    "for i in range(1,51,0):\n",
    "    print(i)"
   ]
  },
  {
   "cell_type": "code",
   "execution_count": 26,
   "id": "4a55f46b",
   "metadata": {},
   "outputs": [
    {
     "name": "stdout",
     "output_type": "stream",
     "text": [
      "1\n",
      "2\n",
      "3\n",
      "4\n",
      "5\n",
      "6\n",
      "7\n",
      "8\n",
      "9\n",
      "10\n",
      "11\n",
      "12\n",
      "13\n",
      "14\n",
      "15\n",
      "16\n",
      "17\n",
      "18\n",
      "19\n",
      "20\n",
      "21\n",
      "22\n",
      "23\n",
      "24\n",
      "25\n",
      "26\n",
      "27\n",
      "28\n",
      "29\n",
      "30\n",
      "31\n",
      "32\n",
      "33\n",
      "34\n",
      "35\n",
      "36\n",
      "37\n",
      "38\n",
      "39\n",
      "40\n",
      "41\n",
      "42\n",
      "43\n",
      "44\n",
      "45\n",
      "46\n",
      "47\n",
      "48\n",
      "49\n",
      "50\n"
     ]
    }
   ],
   "source": [
    "for i in range(1,51,1):\n",
    "    print(i)"
   ]
  },
  {
   "cell_type": "code",
   "execution_count": 29,
   "id": "8904572b",
   "metadata": {},
   "outputs": [
    {
     "name": "stdout",
     "output_type": "stream",
     "text": [
      "1\n",
      "5\n",
      "9\n",
      "13\n",
      "17\n",
      "21\n",
      "25\n",
      "29\n",
      "33\n",
      "37\n",
      "41\n",
      "45\n",
      "49\n"
     ]
    }
   ],
   "source": [
    "for i in range(1,51,4):\n",
    "    print(i)"
   ]
  },
  {
   "cell_type": "code",
   "execution_count": 30,
   "id": "b8ed16fb",
   "metadata": {},
   "outputs": [
    {
     "name": "stdout",
     "output_type": "stream",
     "text": [
      "1\n",
      "3\n",
      "5\n",
      "7\n",
      "9\n",
      "11\n",
      "13\n",
      "15\n",
      "17\n",
      "19\n",
      "21\n",
      "23\n",
      "25\n",
      "27\n",
      "29\n",
      "31\n",
      "33\n",
      "35\n",
      "37\n",
      "39\n",
      "41\n",
      "43\n",
      "45\n",
      "47\n",
      "49\n"
     ]
    }
   ],
   "source": [
    "for i in range(1,51,2):\n",
    "    print(i)"
   ]
  },
  {
   "cell_type": "code",
   "execution_count": 37,
   "id": "bbc2299a",
   "metadata": {},
   "outputs": [
    {
     "name": "stdout",
     "output_type": "stream",
     "text": [
      "Odd number----------> 1\n",
      "Even number 2\n",
      "Odd number----------> 3\n",
      "Even number 4\n",
      "Odd number----------> 5\n",
      "Even number 6\n",
      "Odd number----------> 7\n",
      "Even number 8\n",
      "Odd number----------> 9\n",
      "Even number 10\n",
      "Odd number----------> 11\n",
      "Even number 12\n",
      "Odd number----------> 13\n",
      "Even number 14\n",
      "Odd number----------> 15\n",
      "Even number 16\n",
      "Odd number----------> 17\n",
      "Even number 18\n",
      "Odd number----------> 19\n",
      "Even number 20\n",
      "Odd number----------> 21\n",
      "Even number 22\n",
      "Odd number----------> 23\n",
      "Even number 24\n",
      "Odd number----------> 25\n",
      "Even number 26\n",
      "Odd number----------> 27\n",
      "Even number 28\n",
      "Odd number----------> 29\n",
      "Even number 30\n",
      "Odd number----------> 31\n",
      "Even number 32\n",
      "Odd number----------> 33\n",
      "Even number 34\n",
      "Odd number----------> 35\n",
      "Even number 36\n",
      "Odd number----------> 37\n",
      "Even number 38\n",
      "Odd number----------> 39\n",
      "Even number 40\n",
      "Odd number----------> 41\n",
      "Even number 42\n",
      "Odd number----------> 43\n",
      "Even number 44\n",
      "Odd number----------> 45\n",
      "Even number 46\n",
      "Odd number----------> 47\n",
      "Even number 48\n",
      "Odd number----------> 49\n",
      "Even number 50\n",
      "Odd number----------> 51\n",
      "Even number 52\n",
      "Odd number----------> 53\n",
      "Even number 54\n",
      "Odd number----------> 55\n",
      "Even number 56\n",
      "Odd number----------> 57\n",
      "Even number 58\n",
      "Odd number----------> 59\n",
      "Even number 60\n",
      "Odd number----------> 61\n",
      "Even number 62\n",
      "Odd number----------> 63\n",
      "Even number 64\n",
      "Odd number----------> 65\n",
      "Even number 66\n",
      "Odd number----------> 67\n",
      "Even number 68\n",
      "Odd number----------> 69\n",
      "Even number 70\n",
      "Odd number----------> 71\n",
      "Even number 72\n",
      "Odd number----------> 73\n",
      "Even number 74\n",
      "Odd number----------> 75\n",
      "Even number 76\n",
      "Odd number----------> 77\n",
      "Even number 78\n",
      "Odd number----------> 79\n",
      "Even number 80\n",
      "Odd number----------> 81\n",
      "Even number 82\n",
      "Odd number----------> 83\n",
      "Even number 84\n",
      "Odd number----------> 85\n",
      "Even number 86\n",
      "Odd number----------> 87\n",
      "Even number 88\n",
      "Odd number----------> 89\n",
      "Even number 90\n",
      "Odd number----------> 91\n",
      "Even number 92\n",
      "Odd number----------> 93\n",
      "Even number 94\n",
      "Odd number----------> 95\n",
      "Even number 96\n",
      "Odd number----------> 97\n",
      "Even number 98\n",
      "Odd number----------> 99\n",
      "Even number 100\n"
     ]
    }
   ],
   "source": [
    "# wap to print odd & even number from 1-100.\n",
    "for i in range(1,101):\n",
    "    if i % 2 == 0 :\n",
    "        print(\"Even number\",i)\n",
    "    else:\n",
    "        print(\"Odd number---------->\",i)\n",
    "        "
   ]
  },
  {
   "cell_type": "code",
   "execution_count": 39,
   "id": "33cd3e17",
   "metadata": {},
   "outputs": [
    {
     "name": "stdout",
     "output_type": "stream",
     "text": [
      "-10\n",
      "-9\n",
      "-8\n",
      "-7\n",
      "-6\n",
      "-5\n",
      "-4\n",
      "-3\n",
      "-2\n",
      "-1\n",
      "0\n",
      "1\n",
      "2\n",
      "3\n",
      "4\n",
      "5\n",
      "6\n",
      "7\n",
      "8\n",
      "9\n",
      "10\n"
     ]
    }
   ],
   "source": [
    "#wap to print numbers from -10 to 10.\n",
    "#wap to print numbers from 10 to -10.\n",
    "\n",
    "for i in range(-10,11):\n",
    "    print(i)"
   ]
  },
  {
   "cell_type": "code",
   "execution_count": 45,
   "id": "af85d315",
   "metadata": {},
   "outputs": [
    {
     "name": "stdout",
     "output_type": "stream",
     "text": [
      "10\n",
      "9\n",
      "8\n",
      "7\n",
      "6\n",
      "5\n",
      "4\n",
      "3\n",
      "2\n",
      "1\n",
      "0\n",
      "-1\n",
      "-2\n",
      "-3\n",
      "-4\n",
      "-5\n",
      "-6\n",
      "-7\n",
      "-8\n",
      "-9\n",
      "-10\n"
     ]
    }
   ],
   "source": [
    "for i in range(10,-11,-1):\n",
    "    print(i)"
   ]
  },
  {
   "cell_type": "code",
   "execution_count": 47,
   "id": "68abf618",
   "metadata": {},
   "outputs": [
    {
     "name": "stdout",
     "output_type": "stream",
     "text": [
      "1\n",
      "2\n",
      "3\n",
      "4\n",
      "5\n",
      "6\n",
      "7\n",
      "8\n",
      "9\n",
      "10\n"
     ]
    }
   ],
   "source": [
    "#while loop----->\n",
    "\n",
    "# 1.initialize\n",
    "# 2. condition\n",
    "# 3.increment/decrement\n",
    "\n",
    "\n",
    "# 1-10---->\n",
    "\n",
    "\n",
    "x = 1\n",
    "\n",
    "while x<=10:\n",
    "    \n",
    "    print(x)\n",
    "    x = x+1"
   ]
  },
  {
   "cell_type": "code",
   "execution_count": 48,
   "id": "40687e56",
   "metadata": {},
   "outputs": [
    {
     "name": "stdout",
     "output_type": "stream",
     "text": [
      "1\n",
      "2\n",
      "3\n",
      "4\n",
      "5\n",
      "6\n",
      "7\n",
      "8\n",
      "9\n",
      "10\n"
     ]
    }
   ],
   "source": [
    "x = 1\n",
    "\n",
    "while x<=10:\n",
    "    \n",
    "    print(x)\n",
    "    x+=1"
   ]
  },
  {
   "cell_type": "code",
   "execution_count": 49,
   "id": "bff43589",
   "metadata": {},
   "outputs": [
    {
     "ename": "SyntaxError",
     "evalue": "invalid syntax (Temp/ipykernel_13240/308103139.py, line 6)",
     "output_type": "error",
     "traceback": [
      "\u001b[1;36m  File \u001b[1;32m\"C:\\Users\\Satyam\\AppData\\Local\\Temp/ipykernel_13240/308103139.py\"\u001b[1;36m, line \u001b[1;32m6\u001b[0m\n\u001b[1;33m    x++\u001b[0m\n\u001b[1;37m       ^\u001b[0m\n\u001b[1;31mSyntaxError\u001b[0m\u001b[1;31m:\u001b[0m invalid syntax\n"
     ]
    }
   ],
   "source": [
    "x = 1\n",
    "\n",
    "while x<=10:\n",
    "    \n",
    "    print(x)\n",
    "    x++"
   ]
  },
  {
   "cell_type": "code",
   "execution_count": 53,
   "id": "73d87b42",
   "metadata": {},
   "outputs": [
    {
     "name": "stdout",
     "output_type": "stream",
     "text": [
      "Odd number 1\n",
      "Even number-------> 2\n",
      "Odd number 3\n",
      "Even number-------> 4\n",
      "Odd number 5\n",
      "Even number-------> 6\n",
      "Odd number 7\n",
      "Even number-------> 8\n",
      "Odd number 9\n",
      "Even number-------> 10\n",
      "Odd number 11\n",
      "Even number-------> 12\n",
      "Odd number 13\n",
      "Even number-------> 14\n",
      "Odd number 15\n",
      "Even number-------> 16\n",
      "Odd number 17\n",
      "Even number-------> 18\n",
      "Odd number 19\n",
      "Even number-------> 20\n",
      "Odd number 21\n",
      "Even number-------> 22\n",
      "Odd number 23\n",
      "Even number-------> 24\n",
      "Odd number 25\n",
      "Even number-------> 26\n",
      "Odd number 27\n",
      "Even number-------> 28\n",
      "Odd number 29\n",
      "Even number-------> 30\n",
      "Odd number 31\n",
      "Even number-------> 32\n",
      "Odd number 33\n",
      "Even number-------> 34\n",
      "Odd number 35\n",
      "Even number-------> 36\n",
      "Odd number 37\n",
      "Even number-------> 38\n",
      "Odd number 39\n",
      "Even number-------> 40\n",
      "Odd number 41\n",
      "Even number-------> 42\n",
      "Odd number 43\n",
      "Even number-------> 44\n",
      "Odd number 45\n",
      "Even number-------> 46\n",
      "Odd number 47\n",
      "Even number-------> 48\n",
      "Odd number 49\n",
      "Even number-------> 50\n"
     ]
    }
   ],
   "source": [
    "#wap to print even odd using while loop!!\n",
    "x = 1\n",
    "while x<=50:\n",
    "    if x%2!=0:\n",
    "        print(\"Odd number\",x)\n",
    "    else:\n",
    "        print(\"Even number------->\",x)\n",
    "    x+=1"
   ]
  },
  {
   "cell_type": "code",
   "execution_count": null,
   "id": "e31606df",
   "metadata": {},
   "outputs": [],
   "source": []
  }
 ],
 "metadata": {
  "kernelspec": {
   "display_name": "Python 3 (ipykernel)",
   "language": "python",
   "name": "python3"
  },
  "language_info": {
   "codemirror_mode": {
    "name": "ipython",
    "version": 3
   },
   "file_extension": ".py",
   "mimetype": "text/x-python",
   "name": "python",
   "nbconvert_exporter": "python",
   "pygments_lexer": "ipython3",
   "version": "3.9.7"
  }
 },
 "nbformat": 4,
 "nbformat_minor": 5
}
