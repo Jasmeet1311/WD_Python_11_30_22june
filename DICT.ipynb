{
 "cells": [
  {
   "cell_type": "code",
   "execution_count": 9,
   "id": "7423781b",
   "metadata": {},
   "outputs": [
    {
     "name": "stdout",
     "output_type": "stream",
     "text": [
      "Divisible by K-----> 24\n",
      "Divisible by K-----> 56\n",
      "Divisible by K-----> 78\n",
      "Divisible by K-----> 90\n",
      "Divisible by K-----> 10\n"
     ]
    }
   ],
   "source": [
    "# 12.Python program to find tuples which have \n",
    "# all elements divisible by K from a list of tuples.\n",
    "\n",
    "\n",
    "k = 2\n",
    "x = [(24,56,78,90,1,3,9,10)]\n",
    "for i in x:\n",
    "    for j in i:\n",
    "        if j%k==0:\n",
    "            print(\"Divisible by K----->\",j)\n",
    "    \n",
    "    \n",
    "\n"
   ]
  },
  {
   "cell_type": "code",
   "execution_count": 10,
   "id": "89cf6019",
   "metadata": {},
   "outputs": [
    {
     "name": "stdout",
     "output_type": "stream",
     "text": [
      "[1, 3, 4, 5, 8, 4]\n"
     ]
    }
   ],
   "source": [
    "x = (1,3,4,5,8,4)\n",
    "y = list(x)\n",
    "print(y)"
   ]
  },
  {
   "cell_type": "code",
   "execution_count": 12,
   "id": "30e841d4",
   "metadata": {},
   "outputs": [],
   "source": [
    "y.remove(4)"
   ]
  },
  {
   "cell_type": "code",
   "execution_count": 13,
   "id": "72dd4990",
   "metadata": {},
   "outputs": [
    {
     "data": {
      "text/plain": [
       "[1, 3, 5, 8, 4]"
      ]
     },
     "execution_count": 13,
     "metadata": {},
     "output_type": "execute_result"
    }
   ],
   "source": [
    "y"
   ]
  },
  {
   "cell_type": "code",
   "execution_count": 14,
   "id": "b2e93365",
   "metadata": {},
   "outputs": [],
   "source": [
    "z = tuple(y)"
   ]
  },
  {
   "cell_type": "code",
   "execution_count": 15,
   "id": "f15ee2ce",
   "metadata": {},
   "outputs": [
    {
     "name": "stdout",
     "output_type": "stream",
     "text": [
      "(1, 3, 5, 8, 4)\n"
     ]
    }
   ],
   "source": [
    "print(z)"
   ]
  },
  {
   "cell_type": "code",
   "execution_count": 23,
   "id": "81973cd4",
   "metadata": {},
   "outputs": [
    {
     "name": "stdout",
     "output_type": "stream",
     "text": [
      "Enter the number!!1\n",
      "[1, 1, 1, 1]\n"
     ]
    }
   ],
   "source": [
    "# Wap to find the sum of number in a list where number is given by the user?\n",
    "\n",
    "x = int(input(\"Enter the number!!\"))\n",
    "y = []\n",
    "for i in range(0,4):\n",
    "    b = int(input())\n",
    "    y.append(x)\n",
    "print(y)\n"
   ]
  },
  {
   "cell_type": "markdown",
   "id": "acd9b9c6",
   "metadata": {},
   "source": [
    "###### "
   ]
  },
  {
   "cell_type": "markdown",
   "id": "efc72a7e",
   "metadata": {},
   "source": [
    "# DICT"
   ]
  },
  {
   "cell_type": "code",
   "execution_count": 24,
   "id": "a66e1ce2",
   "metadata": {},
   "outputs": [],
   "source": [
    "x = {\n",
    "    'name':'A',\n",
    "    'age':23,\n",
    "    'marks':34.9\n",
    "}"
   ]
  },
  {
   "cell_type": "code",
   "execution_count": 25,
   "id": "5121f9d5",
   "metadata": {},
   "outputs": [
    {
     "name": "stdout",
     "output_type": "stream",
     "text": [
      "{'name': 'A', 'age': 23, 'marks': 34.9}\n"
     ]
    }
   ],
   "source": [
    "print(x)"
   ]
  },
  {
   "cell_type": "code",
   "execution_count": 26,
   "id": "8ac00621",
   "metadata": {},
   "outputs": [
    {
     "data": {
      "text/plain": [
       "dict"
      ]
     },
     "execution_count": 26,
     "metadata": {},
     "output_type": "execute_result"
    }
   ],
   "source": [
    "type(x)"
   ]
  },
  {
   "cell_type": "code",
   "execution_count": 27,
   "id": "d067820f",
   "metadata": {},
   "outputs": [
    {
     "data": {
      "text/plain": [
       "{'name': 'A', 'age': 23, 'marks': 34.9}"
      ]
     },
     "execution_count": 27,
     "metadata": {},
     "output_type": "execute_result"
    }
   ],
   "source": [
    "# Slicing & indexing\n",
    "# Dict have no index....\n",
    "# not able to slice\n",
    "x"
   ]
  },
  {
   "cell_type": "code",
   "execution_count": 29,
   "id": "26a75ca1",
   "metadata": {},
   "outputs": [
    {
     "data": {
      "text/plain": [
       "23"
      ]
     },
     "execution_count": 29,
     "metadata": {},
     "output_type": "execute_result"
    }
   ],
   "source": [
    "x['age']"
   ]
  },
  {
   "cell_type": "code",
   "execution_count": 32,
   "id": "5ccd3158",
   "metadata": {},
   "outputs": [],
   "source": [
    "x = {\n",
    "    'name':['A','B','C'],\n",
    "    'age':(23,34,12),\n",
    "    'marks':[34.9,23,90]\n",
    "}"
   ]
  },
  {
   "cell_type": "code",
   "execution_count": 33,
   "id": "6cc4dd9a",
   "metadata": {},
   "outputs": [
    {
     "name": "stdout",
     "output_type": "stream",
     "text": [
      "{'name': ['A', 'B', 'C'], 'age': (23, 34, 12), 'marks': [34.9, 23, 90]}\n"
     ]
    }
   ],
   "source": [
    "print(x)"
   ]
  },
  {
   "cell_type": "code",
   "execution_count": 34,
   "id": "29507f63",
   "metadata": {},
   "outputs": [
    {
     "data": {
      "text/plain": [
       "90"
      ]
     },
     "execution_count": 34,
     "metadata": {},
     "output_type": "execute_result"
    }
   ],
   "source": [
    "x['marks'][2]"
   ]
  },
  {
   "cell_type": "code",
   "execution_count": 36,
   "id": "e89e7102",
   "metadata": {},
   "outputs": [],
   "source": [
    "#wap to make a dict inside dict.\n",
    "x = {\n",
    "    'name':['A','B','C'],\n",
    "    'age':(23,34,12),\n",
    "    'marks':(34.9,23,90),\n",
    "    \n",
    "    'y':{\n",
    "        'phone':'9891464311',\n",
    "        'addr.':\"Delhi\"\n",
    "    }\n",
    "}"
   ]
  },
  {
   "cell_type": "code",
   "execution_count": 37,
   "id": "d368dba3",
   "metadata": {},
   "outputs": [
    {
     "name": "stdout",
     "output_type": "stream",
     "text": [
      "{'name': ['A', 'B', 'C'], 'age': (23, 34, 12), 'marks': (34.9, 23, 90), 'y': {'phone': '9891464311', 'addr.': 'Delhi'}}\n"
     ]
    }
   ],
   "source": [
    "print(x)"
   ]
  },
  {
   "cell_type": "code",
   "execution_count": 39,
   "id": "65bb9231",
   "metadata": {},
   "outputs": [
    {
     "data": {
      "text/plain": [
       "'Delhi'"
      ]
     },
     "execution_count": 39,
     "metadata": {},
     "output_type": "execute_result"
    }
   ],
   "source": [
    "x['y']['addr.']"
   ]
  },
  {
   "cell_type": "code",
   "execution_count": 48,
   "id": "aa52d60b",
   "metadata": {},
   "outputs": [],
   "source": [
    "x = {\n",
    "    'name':['A','B','C'],\n",
    "    'age':(23,34,12),\n",
    "    'marks':(34.9,23,90),\n",
    "    0:1,\n",
    "    '0':'1',\n",
    "    '0':1,\n",
    "    1:'hello',\n",
    "    '1':0,\n",
    "    \n",
    "    'y':{\n",
    "        'phone':'9891464311',\n",
    "        'addr.':\"Delhi\"\n",
    "    }\n",
    "}"
   ]
  },
  {
   "cell_type": "code",
   "execution_count": 49,
   "id": "ab2103a0",
   "metadata": {},
   "outputs": [
    {
     "data": {
      "text/plain": [
       "{'name': ['A', 'B', 'C'],\n",
       " 'age': (23, 34, 12),\n",
       " 'marks': (34.9, 23, 90),\n",
       " 0: 1,\n",
       " '0': 1,\n",
       " 1: 'hello',\n",
       " '1': 0,\n",
       " 'y': {'phone': '9891464311', 'addr.': 'Delhi'}}"
      ]
     },
     "execution_count": 49,
     "metadata": {},
     "output_type": "execute_result"
    }
   ],
   "source": [
    "x"
   ]
  },
  {
   "cell_type": "code",
   "execution_count": 50,
   "id": "8c8cfd75",
   "metadata": {},
   "outputs": [
    {
     "data": {
      "text/plain": [
       "{'name': ['A', 'B', 'C'],\n",
       " 'age': (23, 34, 12),\n",
       " 'marks': (34.9, 23, 90),\n",
       " 0: 1,\n",
       " '0': 1,\n",
       " 1: 'hello',\n",
       " '1': 0,\n",
       " 'y': {'phone': '9891464311', 'addr.': 'Delhi'}}"
      ]
     },
     "execution_count": 50,
     "metadata": {},
     "output_type": "execute_result"
    }
   ],
   "source": [
    "# key\n",
    "# values\n",
    "# items\n",
    "# update\n",
    "# pop\n",
    "\n",
    "\n",
    "x"
   ]
  },
  {
   "cell_type": "code",
   "execution_count": 51,
   "id": "634995f4",
   "metadata": {},
   "outputs": [
    {
     "data": {
      "text/plain": [
       "dict_keys(['name', 'age', 'marks', 0, '0', 1, '1', 'y'])"
      ]
     },
     "execution_count": 51,
     "metadata": {},
     "output_type": "execute_result"
    }
   ],
   "source": [
    "x.keys()"
   ]
  },
  {
   "cell_type": "code",
   "execution_count": 52,
   "id": "0836cb8f",
   "metadata": {},
   "outputs": [
    {
     "data": {
      "text/plain": [
       "dict_values([['A', 'B', 'C'], (23, 34, 12), (34.9, 23, 90), 1, 1, 'hello', 0, {'phone': '9891464311', 'addr.': 'Delhi'}])"
      ]
     },
     "execution_count": 52,
     "metadata": {},
     "output_type": "execute_result"
    }
   ],
   "source": [
    "x.values()"
   ]
  },
  {
   "cell_type": "code",
   "execution_count": 53,
   "id": "8d6d48b0",
   "metadata": {},
   "outputs": [
    {
     "data": {
      "text/plain": [
       "dict_items([('name', ['A', 'B', 'C']), ('age', (23, 34, 12)), ('marks', (34.9, 23, 90)), (0, 1), ('0', 1), (1, 'hello'), ('1', 0), ('y', {'phone': '9891464311', 'addr.': 'Delhi'})])"
      ]
     },
     "execution_count": 53,
     "metadata": {},
     "output_type": "execute_result"
    }
   ],
   "source": [
    "x.items()"
   ]
  },
  {
   "cell_type": "code",
   "execution_count": 55,
   "id": "61869bed",
   "metadata": {},
   "outputs": [
    {
     "data": {
      "text/plain": [
       "1"
      ]
     },
     "execution_count": 55,
     "metadata": {},
     "output_type": "execute_result"
    }
   ],
   "source": [
    "x.pop(0)"
   ]
  },
  {
   "cell_type": "code",
   "execution_count": 56,
   "id": "d4b64719",
   "metadata": {},
   "outputs": [
    {
     "data": {
      "text/plain": [
       "'hello'"
      ]
     },
     "execution_count": 56,
     "metadata": {},
     "output_type": "execute_result"
    }
   ],
   "source": [
    "x.pop(1)"
   ]
  },
  {
   "cell_type": "code",
   "execution_count": 57,
   "id": "9ac3c634",
   "metadata": {},
   "outputs": [
    {
     "ename": "KeyError",
     "evalue": "2",
     "output_type": "error",
     "traceback": [
      "\u001b[1;31m---------------------------------------------------------------------------\u001b[0m",
      "\u001b[1;31mKeyError\u001b[0m                                  Traceback (most recent call last)",
      "\u001b[1;32m~\\AppData\\Local\\Temp/ipykernel_13936/508030786.py\u001b[0m in \u001b[0;36m<module>\u001b[1;34m\u001b[0m\n\u001b[1;32m----> 1\u001b[1;33m \u001b[0mx\u001b[0m\u001b[1;33m.\u001b[0m\u001b[0mpop\u001b[0m\u001b[1;33m(\u001b[0m\u001b[1;36m2\u001b[0m\u001b[1;33m)\u001b[0m\u001b[1;33m\u001b[0m\u001b[1;33m\u001b[0m\u001b[0m\n\u001b[0m",
      "\u001b[1;31mKeyError\u001b[0m: 2"
     ]
    }
   ],
   "source": [
    "x.pop(2)"
   ]
  },
  {
   "cell_type": "code",
   "execution_count": 58,
   "id": "3c6fc7ae",
   "metadata": {},
   "outputs": [
    {
     "data": {
      "text/plain": [
       "{'name': ['A', 'B', 'C'],\n",
       " 'age': (23, 34, 12),\n",
       " 'marks': (34.9, 23, 90),\n",
       " '0': 1,\n",
       " '1': 0,\n",
       " 'y': {'phone': '9891464311', 'addr.': 'Delhi'}}"
      ]
     },
     "execution_count": 58,
     "metadata": {},
     "output_type": "execute_result"
    }
   ],
   "source": [
    "x"
   ]
  },
  {
   "cell_type": "code",
   "execution_count": 59,
   "id": "3fed66fc",
   "metadata": {},
   "outputs": [],
   "source": [
    "x.update()"
   ]
  },
  {
   "cell_type": "code",
   "execution_count": 60,
   "id": "90f08dbe",
   "metadata": {},
   "outputs": [
    {
     "data": {
      "text/plain": [
       "{'name': ['A', 'B', 'C'],\n",
       " 'age': (23, 34, 12),\n",
       " 'marks': (34.9, 23, 90),\n",
       " '0': 1,\n",
       " '1': 0,\n",
       " 'y': {'phone': '9891464311', 'addr.': 'Delhi'}}"
      ]
     },
     "execution_count": 60,
     "metadata": {},
     "output_type": "execute_result"
    }
   ],
   "source": [
    "x"
   ]
  },
  {
   "cell_type": "code",
   "execution_count": 61,
   "id": "91c605fd",
   "metadata": {},
   "outputs": [],
   "source": [
    "x.update()"
   ]
  },
  {
   "cell_type": "code",
   "execution_count": 62,
   "id": "6fe2ba81",
   "metadata": {},
   "outputs": [
    {
     "data": {
      "text/plain": [
       "{'name': ['A', 'B', 'C'],\n",
       " 'age': (23, 34, 12),\n",
       " 'marks': (34.9, 23, 90),\n",
       " '0': 1,\n",
       " '1': 0,\n",
       " 'y': {'phone': '9891464311', 'addr.': 'Delhi'}}"
      ]
     },
     "execution_count": 62,
     "metadata": {},
     "output_type": "execute_result"
    }
   ],
   "source": [
    "x"
   ]
  },
  {
   "cell_type": "code",
   "execution_count": 67,
   "id": "d1ce33db",
   "metadata": {},
   "outputs": [
    {
     "data": {
      "text/plain": [
       "{1: 23, 2: 20, 'x': 45}"
      ]
     },
     "execution_count": 67,
     "metadata": {},
     "output_type": "execute_result"
    }
   ],
   "source": [
    "# 2 dict\n",
    "x = {1:10,2:20}\n",
    "y = {1:23,'x':45}\n",
    "x.update(y)\n",
    "x"
   ]
  },
  {
   "cell_type": "code",
   "execution_count": 70,
   "id": "d5600f08",
   "metadata": {},
   "outputs": [
    {
     "name": "stdout",
     "output_type": "stream",
     "text": [
      "{1: 0}\n"
     ]
    }
   ],
   "source": [
    "#wap to find the single element dict\n",
    "#wap to make a empty dict.\n",
    "\n",
    "x = {1:0}\n",
    "print(x)"
   ]
  },
  {
   "cell_type": "code",
   "execution_count": 71,
   "id": "aeadc280",
   "metadata": {},
   "outputs": [
    {
     "data": {
      "text/plain": [
       "dict"
      ]
     },
     "execution_count": 71,
     "metadata": {},
     "output_type": "execute_result"
    }
   ],
   "source": [
    "type(x)"
   ]
  },
  {
   "cell_type": "code",
   "execution_count": 72,
   "id": "d91a3f25",
   "metadata": {},
   "outputs": [
    {
     "name": "stdout",
     "output_type": "stream",
     "text": [
      "{}\n"
     ]
    }
   ],
   "source": [
    "x = {}\n",
    "print(x)"
   ]
  },
  {
   "cell_type": "code",
   "execution_count": 73,
   "id": "2adb7b96",
   "metadata": {},
   "outputs": [
    {
     "data": {
      "text/plain": [
       "dict"
      ]
     },
     "execution_count": 73,
     "metadata": {},
     "output_type": "execute_result"
    }
   ],
   "source": [
    "type(x)"
   ]
  },
  {
   "cell_type": "code",
   "execution_count": null,
   "id": "aaa49a5a",
   "metadata": {},
   "outputs": [],
   "source": []
  }
 ],
 "metadata": {
  "kernelspec": {
   "display_name": "Python 3 (ipykernel)",
   "language": "python",
   "name": "python3"
  },
  "language_info": {
   "codemirror_mode": {
    "name": "ipython",
    "version": 3
   },
   "file_extension": ".py",
   "mimetype": "text/x-python",
   "name": "python",
   "nbconvert_exporter": "python",
   "pygments_lexer": "ipython3",
   "version": "3.9.7"
  }
 },
 "nbformat": 4,
 "nbformat_minor": 5
}
