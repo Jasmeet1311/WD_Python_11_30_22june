{
 "cells": [
  {
   "cell_type": "code",
   "execution_count": 1,
   "id": "b60e9b7c",
   "metadata": {},
   "outputs": [
    {
     "name": "stdout",
     "output_type": "stream",
     "text": [
      "{89, True, 67, 'SQL', 'Python', 90, 92}\n"
     ]
    }
   ],
   "source": [
    "# set ----> set is data collection type.\n",
    "x = {89,90,92,67,'Python','SQL',True}\n",
    "print(x)"
   ]
  },
  {
   "cell_type": "code",
   "execution_count": 3,
   "id": "097f41e2",
   "metadata": {},
   "outputs": [
    {
     "data": {
      "text/plain": [
       "set"
      ]
     },
     "execution_count": 3,
     "metadata": {},
     "output_type": "execute_result"
    }
   ],
   "source": [
    "type(x)"
   ]
  },
  {
   "cell_type": "code",
   "execution_count": 2,
   "id": "c040d1dc",
   "metadata": {},
   "outputs": [
    {
     "ename": "TypeError",
     "evalue": "'set' object is not subscriptable",
     "output_type": "error",
     "traceback": [
      "\u001b[1;31m---------------------------------------------------------------------------\u001b[0m",
      "\u001b[1;31mTypeError\u001b[0m                                 Traceback (most recent call last)",
      "\u001b[1;32m~\\AppData\\Local\\Temp/ipykernel_10284/3629782281.py\u001b[0m in \u001b[0;36m<module>\u001b[1;34m\u001b[0m\n\u001b[1;32m----> 1\u001b[1;33m \u001b[0mx\u001b[0m\u001b[1;33m[\u001b[0m\u001b[1;36m0\u001b[0m\u001b[1;33m]\u001b[0m\u001b[1;33m\u001b[0m\u001b[1;33m\u001b[0m\u001b[0m\n\u001b[0m",
      "\u001b[1;31mTypeError\u001b[0m: 'set' object is not subscriptable"
     ]
    }
   ],
   "source": [
    "\n",
    "x[0]"
   ]
  },
  {
   "cell_type": "code",
   "execution_count": 4,
   "id": "8700d624",
   "metadata": {},
   "outputs": [],
   "source": [
    "# unordered\n",
    "# no index\n",
    "# immuatble\n",
    "# slicing not possible.\n",
    "\n",
    "# set method\n",
    "\n",
    "\n",
    "# single element set\n",
    "# empty set"
   ]
  },
  {
   "cell_type": "code",
   "execution_count": 5,
   "id": "648d36b9",
   "metadata": {},
   "outputs": [],
   "source": [
    "x = {1}"
   ]
  },
  {
   "cell_type": "code",
   "execution_count": 6,
   "id": "2f4556ee",
   "metadata": {},
   "outputs": [
    {
     "name": "stdout",
     "output_type": "stream",
     "text": [
      "{1}\n"
     ]
    }
   ],
   "source": [
    "print(x)"
   ]
  },
  {
   "cell_type": "code",
   "execution_count": 7,
   "id": "711eccc8",
   "metadata": {},
   "outputs": [
    {
     "data": {
      "text/plain": [
       "set"
      ]
     },
     "execution_count": 7,
     "metadata": {},
     "output_type": "execute_result"
    }
   ],
   "source": [
    "type(x)"
   ]
  },
  {
   "cell_type": "code",
   "execution_count": 8,
   "id": "4cfb2244",
   "metadata": {},
   "outputs": [
    {
     "name": "stdout",
     "output_type": "stream",
     "text": [
      "{}\n"
     ]
    }
   ],
   "source": [
    "a = {}\n",
    "print(a)"
   ]
  },
  {
   "cell_type": "code",
   "execution_count": 9,
   "id": "a1514e6f",
   "metadata": {},
   "outputs": [
    {
     "data": {
      "text/plain": [
       "dict"
      ]
     },
     "execution_count": 9,
     "metadata": {},
     "output_type": "execute_result"
    }
   ],
   "source": [
    "type(a)"
   ]
  },
  {
   "cell_type": "code",
   "execution_count": 10,
   "id": "03c74763",
   "metadata": {},
   "outputs": [
    {
     "name": "stdout",
     "output_type": "stream",
     "text": [
      "set()\n"
     ]
    }
   ],
   "source": [
    "a = set()\n",
    "print(a)"
   ]
  },
  {
   "cell_type": "code",
   "execution_count": 11,
   "id": "0e2ff679",
   "metadata": {},
   "outputs": [
    {
     "data": {
      "text/plain": [
       "set"
      ]
     },
     "execution_count": 11,
     "metadata": {},
     "output_type": "execute_result"
    }
   ],
   "source": [
    "type(a)"
   ]
  },
  {
   "cell_type": "markdown",
   "id": "5a62297e",
   "metadata": {},
   "source": [
    "# Function"
   ]
  },
  {
   "cell_type": "code",
   "execution_count": 12,
   "id": "3348da35",
   "metadata": {},
   "outputs": [],
   "source": [
    "#syntax-----> define the function function_name():\n",
    "#                     print the msg\n",
    "#                     logic define\n",
    "\n"
   ]
  },
  {
   "cell_type": "code",
   "execution_count": 13,
   "id": "8143becd",
   "metadata": {},
   "outputs": [],
   "source": [
    "def hello():\n",
    "    print(\"Hello I am function!!\")"
   ]
  },
  {
   "cell_type": "code",
   "execution_count": 15,
   "id": "a64a874c",
   "metadata": {},
   "outputs": [
    {
     "name": "stdout",
     "output_type": "stream",
     "text": [
      "Hello I am function!!\n",
      "None\n"
     ]
    }
   ],
   "source": [
    "print(hello())"
   ]
  },
  {
   "cell_type": "code",
   "execution_count": 17,
   "id": "cfa462be",
   "metadata": {},
   "outputs": [
    {
     "name": "stdout",
     "output_type": "stream",
     "text": [
      "10\n"
     ]
    }
   ],
   "source": [
    "#wap to add two numbers with the function.\n",
    "def fun():\n",
    "    a = 8 \n",
    "    b = 2\n",
    "    c = a+b\n",
    "    print(c)\n",
    "    \n",
    "fun()\n"
   ]
  },
  {
   "cell_type": "code",
   "execution_count": null,
   "id": "e837c5bf",
   "metadata": {},
   "outputs": [],
   "source": [
    "# 4types of function.\n",
    "\n",
    "# 1. no arg no return\n",
    "# 2. no arg with return\n",
    "# 3. with arg with return\n",
    "# 4. with arg no retrun"
   ]
  },
  {
   "cell_type": "code",
   "execution_count": 19,
   "id": "398a9d67",
   "metadata": {},
   "outputs": [
    {
     "name": "stdout",
     "output_type": "stream",
     "text": [
      "enter the first num76\n",
      "78\n"
     ]
    }
   ],
   "source": [
    "# 1. no return no arg.\n",
    "\n",
    "def fun():\n",
    "    a = int(input('enter the first num')) \n",
    "    b = 2\n",
    "    c = a+b\n",
    "    print(c)\n",
    "    \n",
    "fun()\n"
   ]
  },
  {
   "cell_type": "code",
   "execution_count": 21,
   "id": "9bcd62a3",
   "metadata": {},
   "outputs": [],
   "source": [
    "# With arg no return\n",
    "\n",
    "def add(x,y):\n",
    "    z = x+y\n",
    "    print(z)"
   ]
  },
  {
   "cell_type": "code",
   "execution_count": 26,
   "id": "8461d5b2",
   "metadata": {},
   "outputs": [
    {
     "name": "stdout",
     "output_type": "stream",
     "text": [
      "3\n"
     ]
    }
   ],
   "source": [
    "add(1,2)"
   ]
  },
  {
   "cell_type": "code",
   "execution_count": 24,
   "id": "35a463d9",
   "metadata": {},
   "outputs": [
    {
     "data": {
      "text/plain": [
       "3"
      ]
     },
     "execution_count": 24,
     "metadata": {},
     "output_type": "execute_result"
    }
   ],
   "source": [
    "1+2"
   ]
  },
  {
   "cell_type": "code",
   "execution_count": 33,
   "id": "a3649887",
   "metadata": {},
   "outputs": [],
   "source": [
    "#with arg with return.\n",
    "def add(a,b):\n",
    "    result = a+b\n",
    "    return(result)\n",
    "\n",
    "    "
   ]
  },
  {
   "cell_type": "code",
   "execution_count": 34,
   "id": "9dde7f64",
   "metadata": {},
   "outputs": [
    {
     "data": {
      "text/plain": [
       "43"
      ]
     },
     "execution_count": 34,
     "metadata": {},
     "output_type": "execute_result"
    }
   ],
   "source": [
    "add(34,9)"
   ]
  },
  {
   "cell_type": "code",
   "execution_count": 31,
   "id": "1630d3e1",
   "metadata": {},
   "outputs": [
    {
     "name": "stdout",
     "output_type": "stream",
     "text": [
      "hello bhai\n"
     ]
    }
   ],
   "source": [
    "print(\"hello bhai\")"
   ]
  },
  {
   "cell_type": "code",
   "execution_count": 32,
   "id": "d1c1d1b0",
   "metadata": {},
   "outputs": [
    {
     "ename": "SyntaxError",
     "evalue": "'return' outside function (Temp/ipykernel_10284/2109053429.py, line 1)",
     "output_type": "error",
     "traceback": [
      "\u001b[1;36m  File \u001b[1;32m\"C:\\Users\\Satyam\\AppData\\Local\\Temp/ipykernel_10284/2109053429.py\"\u001b[1;36m, line \u001b[1;32m1\u001b[0m\n\u001b[1;33m    return(\"hello bhai\")\u001b[0m\n\u001b[1;37m    ^\u001b[0m\n\u001b[1;31mSyntaxError\u001b[0m\u001b[1;31m:\u001b[0m 'return' outside function\n"
     ]
    }
   ],
   "source": [
    "return(\"hello bhai\")"
   ]
  },
  {
   "cell_type": "code",
   "execution_count": 35,
   "id": "e7c21602",
   "metadata": {},
   "outputs": [
    {
     "data": {
      "text/plain": [
       "10"
      ]
     },
     "execution_count": 35,
     "metadata": {},
     "output_type": "execute_result"
    }
   ],
   "source": [
    "# no agr with return\n",
    "def add():\n",
    "    a = 4\n",
    "    b = 6\n",
    "    c = a+b\n",
    "    return c\n",
    "add()"
   ]
  },
  {
   "cell_type": "code",
   "execution_count": 41,
   "id": "ca661c38",
   "metadata": {},
   "outputs": [
    {
     "name": "stdout",
     "output_type": "stream",
     "text": [
      "Enter the salary70000\n"
     ]
    },
    {
     "data": {
      "text/plain": [
       "78610.0"
      ]
     },
     "execution_count": 41,
     "metadata": {},
     "output_type": "execute_result"
    }
   ],
   "source": [
    "#wap to determine the salary of the emp. where if the \n",
    "# the emp takes more than 12 leaves in a year then \n",
    "# the salary will be deducted by 7.5% and if the leaves \n",
    "# are less than 5 in a year the there will be bonus of \n",
    "# 12.3% . calculate the yearly income.\n",
    "\n",
    "\n",
    "salary = int(input(\"Enter the salary\"))\n",
    "leaves = 1\n",
    "\n",
    "\n",
    "def income(salary,leaves):\n",
    "    if leaves>12:\n",
    "        ded = (salary*7.5)/100\n",
    "        t_sal = salary - ded\n",
    "        return(t_sal)\n",
    "\n",
    "    elif leaves<5:\n",
    "        bonus = (salary*12.3)/100\n",
    "        total_sal = salary+bonus\n",
    "        return(total_sal)\n",
    "        \n",
    "income(salary,3)"
   ]
  },
  {
   "cell_type": "code",
   "execution_count": 42,
   "id": "43f23181",
   "metadata": {},
   "outputs": [
    {
     "data": {
      "text/plain": [
       "64750.0"
      ]
     },
     "execution_count": 42,
     "metadata": {},
     "output_type": "execute_result"
    }
   ],
   "source": [
    "income(salary,17)"
   ]
  },
  {
   "cell_type": "code",
   "execution_count": null,
   "id": "74038d2d",
   "metadata": {},
   "outputs": [],
   "source": []
  },
  {
   "cell_type": "code",
   "execution_count": null,
   "id": "a19080b1",
   "metadata": {},
   "outputs": [],
   "source": []
  },
  {
   "cell_type": "code",
   "execution_count": 18,
   "id": "f822931c",
   "metadata": {},
   "outputs": [
    {
     "name": "stdout",
     "output_type": "stream",
     "text": [
      "10\n"
     ]
    }
   ],
   "source": [
    "\n",
    "fun()"
   ]
  },
  {
   "cell_type": "code",
   "execution_count": 20,
   "id": "923dd4de",
   "metadata": {},
   "outputs": [
    {
     "name": "stdout",
     "output_type": "stream",
     "text": [
      "enter the first num56\n",
      "58\n"
     ]
    }
   ],
   "source": [
    "fun()"
   ]
  },
  {
   "cell_type": "code",
   "execution_count": null,
   "id": "9da9ba0a",
   "metadata": {},
   "outputs": [],
   "source": []
  }
 ],
 "metadata": {
  "kernelspec": {
   "display_name": "Python 3 (ipykernel)",
   "language": "python",
   "name": "python3"
  },
  "language_info": {
   "codemirror_mode": {
    "name": "ipython",
    "version": 3
   },
   "file_extension": ".py",
   "mimetype": "text/x-python",
   "name": "python",
   "nbconvert_exporter": "python",
   "pygments_lexer": "ipython3",
   "version": "3.9.7"
  }
 },
 "nbformat": 4,
 "nbformat_minor": 5
}
