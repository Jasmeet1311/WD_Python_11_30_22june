{
 "cells": [
  {
   "cell_type": "code",
   "execution_count": 1,
   "id": "31e83b71",
   "metadata": {},
   "outputs": [
    {
     "data": {
      "text/plain": [
       "7"
      ]
     },
     "execution_count": 1,
     "metadata": {},
     "output_type": "execute_result"
    }
   ],
   "source": [
    "a = lambda x,y:x+y\n",
    "a(4,3)"
   ]
  },
  {
   "cell_type": "code",
   "execution_count": 3,
   "id": "773be1db",
   "metadata": {},
   "outputs": [],
   "source": [
    "# find odd even using lambda function.\n",
    "\n",
    "x = lambda a : 'Even' if a%2==0 else 'Odd'"
   ]
  },
  {
   "cell_type": "code",
   "execution_count": 4,
   "id": "257dd5a5",
   "metadata": {},
   "outputs": [
    {
     "data": {
      "text/plain": [
       "'Even'"
      ]
     },
     "execution_count": 4,
     "metadata": {},
     "output_type": "execute_result"
    }
   ],
   "source": [
    "x(34)"
   ]
  },
  {
   "cell_type": "code",
   "execution_count": 8,
   "id": "4dc17eec",
   "metadata": {},
   "outputs": [
    {
     "data": {
      "text/plain": [
       "134"
      ]
     },
     "execution_count": 8,
     "metadata": {},
     "output_type": "execute_result"
    }
   ],
   "source": [
    "a = lambda x:x*67\n",
    "a(2)"
   ]
  },
  {
   "cell_type": "code",
   "execution_count": 9,
   "id": "cc0309ba",
   "metadata": {},
   "outputs": [
    {
     "data": {
      "text/plain": [
       "201"
      ]
     },
     "execution_count": 9,
     "metadata": {},
     "output_type": "execute_result"
    }
   ],
   "source": [
    "a(3)"
   ]
  },
  {
   "cell_type": "code",
   "execution_count": 10,
   "id": "c57030f7",
   "metadata": {},
   "outputs": [
    {
     "data": {
      "text/plain": [
       "268"
      ]
     },
     "execution_count": 10,
     "metadata": {},
     "output_type": "execute_result"
    }
   ],
   "source": [
    "a(4)"
   ]
  },
  {
   "cell_type": "markdown",
   "id": "1f08432a",
   "metadata": {},
   "source": [
    "# Filter Function"
   ]
  },
  {
   "cell_type": "code",
   "execution_count": 14,
   "id": "e8e79b24",
   "metadata": {},
   "outputs": [
    {
     "name": "stdout",
     "output_type": "stream",
     "text": [
      "[78, 90]\n"
     ]
    }
   ],
   "source": [
    "x = [45,78,90,32,23,12,8,43,9,18,15]\n",
    "\n",
    "print(list(filter(lambda x: True if x>60 else False,x)))\n"
   ]
  },
  {
   "cell_type": "code",
   "execution_count": 15,
   "id": "aa81dcbb",
   "metadata": {},
   "outputs": [],
   "source": [
    "x = [45,78,90,32,23,12,8,43,9,18,15]\n",
    "\n",
    "c = list(filter(lambda x: True if x>60 else False,x))"
   ]
  },
  {
   "cell_type": "code",
   "execution_count": 17,
   "id": "d63e5fc3",
   "metadata": {},
   "outputs": [
    {
     "data": {
      "text/plain": [
       "[78, 90]"
      ]
     },
     "execution_count": 17,
     "metadata": {},
     "output_type": "execute_result"
    }
   ],
   "source": [
    "c"
   ]
  },
  {
   "cell_type": "code",
   "execution_count": 19,
   "id": "90932693",
   "metadata": {},
   "outputs": [
    {
     "data": {
      "text/plain": [
       "(78, 90)"
      ]
     },
     "execution_count": 19,
     "metadata": {},
     "output_type": "execute_result"
    }
   ],
   "source": [
    "x = [45,78,90,32,23,12,8,43,9,18,15]\n",
    "\n",
    "def fun(x):\n",
    "    if x>60:\n",
    "        return True\n",
    "    else:\n",
    "        return False\n",
    "    \n",
    "    \n",
    "tuple(filter(fun,x))"
   ]
  },
  {
   "cell_type": "markdown",
   "id": "1f1fee4c",
   "metadata": {},
   "source": [
    "# Map function"
   ]
  },
  {
   "cell_type": "code",
   "execution_count": 21,
   "id": "6cc49c16",
   "metadata": {},
   "outputs": [],
   "source": [
    "a = [1,2,3,4]\n",
    "z = list(map(lambda x:x**2,a))"
   ]
  },
  {
   "cell_type": "code",
   "execution_count": 22,
   "id": "6cbe1ea6",
   "metadata": {},
   "outputs": [
    {
     "name": "stdout",
     "output_type": "stream",
     "text": [
      "[1, 4, 9, 16]\n"
     ]
    }
   ],
   "source": [
    "print(z)"
   ]
  },
  {
   "cell_type": "markdown",
   "id": "0bbed0ea",
   "metadata": {},
   "source": [
    "# Reduce function"
   ]
  },
  {
   "cell_type": "code",
   "execution_count": 24,
   "id": "b63a2c0d",
   "metadata": {},
   "outputs": [],
   "source": [
    "from functools import reduce"
   ]
  },
  {
   "cell_type": "code",
   "execution_count": 25,
   "id": "63292631",
   "metadata": {},
   "outputs": [
    {
     "data": {
      "text/plain": [
       "10"
      ]
     },
     "execution_count": 25,
     "metadata": {},
     "output_type": "execute_result"
    }
   ],
   "source": [
    "a = [1,2,3,4]\n",
    "reduce(lambda x,y:x+y,a)"
   ]
  },
  {
   "cell_type": "code",
   "execution_count": null,
   "id": "b6733e7e",
   "metadata": {},
   "outputs": [],
   "source": []
  }
 ],
 "metadata": {
  "kernelspec": {
   "display_name": "Python 3 (ipykernel)",
   "language": "python",
   "name": "python3"
  },
  "language_info": {
   "codemirror_mode": {
    "name": "ipython",
    "version": 3
   },
   "file_extension": ".py",
   "mimetype": "text/x-python",
   "name": "python",
   "nbconvert_exporter": "python",
   "pygments_lexer": "ipython3",
   "version": "3.9.7"
  }
 },
 "nbformat": 4,
 "nbformat_minor": 5
}
