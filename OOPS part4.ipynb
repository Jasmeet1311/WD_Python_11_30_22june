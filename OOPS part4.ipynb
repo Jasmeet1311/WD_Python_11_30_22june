{
 "cells": [
  {
   "cell_type": "code",
   "execution_count": 1,
   "id": "14e58a8e",
   "metadata": {},
   "outputs": [
    {
     "name": "stdout",
     "output_type": "stream",
     "text": [
      "A 34\n"
     ]
    }
   ],
   "source": [
    "# public \n",
    "class student:\n",
    "    def info(self,name,age):\n",
    "        print(name,age)\n",
    "        \n",
    "s = student()\n",
    "s.info(\"A\",34)"
   ]
  },
  {
   "cell_type": "code",
   "execution_count": 8,
   "id": "85ef7ec4",
   "metadata": {},
   "outputs": [
    {
     "name": "stdout",
     "output_type": "stream",
     "text": [
      "A 34\n"
     ]
    },
    {
     "ename": "AttributeError",
     "evalue": "'student' object has no attribute '__detail__'",
     "output_type": "error",
     "traceback": [
      "\u001b[1;31m---------------------------------------------------------------------------\u001b[0m",
      "\u001b[1;31mAttributeError\u001b[0m                            Traceback (most recent call last)",
      "\u001b[1;32m~\\AppData\\Local\\Temp/ipykernel_6196/3008488229.py\u001b[0m in \u001b[0;36m<module>\u001b[1;34m\u001b[0m\n\u001b[0;32m      9\u001b[0m \u001b[0ms\u001b[0m \u001b[1;33m=\u001b[0m \u001b[0mstudent\u001b[0m\u001b[1;33m(\u001b[0m\u001b[1;33m)\u001b[0m\u001b[1;33m\u001b[0m\u001b[1;33m\u001b[0m\u001b[0m\n\u001b[0;32m     10\u001b[0m \u001b[0ms\u001b[0m\u001b[1;33m.\u001b[0m\u001b[0minfo\u001b[0m\u001b[1;33m(\u001b[0m\u001b[1;34m\"A\"\u001b[0m\u001b[1;33m,\u001b[0m\u001b[1;36m34\u001b[0m\u001b[1;33m)\u001b[0m\u001b[1;33m\u001b[0m\u001b[1;33m\u001b[0m\u001b[0m\n\u001b[1;32m---> 11\u001b[1;33m \u001b[0ms\u001b[0m\u001b[1;33m.\u001b[0m\u001b[0m__detail__\u001b[0m\u001b[1;33m(\u001b[0m\u001b[1;36m90\u001b[0m\u001b[1;33m)\u001b[0m\u001b[1;33m\u001b[0m\u001b[1;33m\u001b[0m\u001b[0m\n\u001b[0m",
      "\u001b[1;31mAttributeError\u001b[0m: 'student' object has no attribute '__detail__'"
     ]
    }
   ],
   "source": [
    "# private\n",
    "class student:\n",
    "    def info(self,name,age):\n",
    "        print(name,age)\n",
    "        \n",
    "    def __detail(self,marks):\n",
    "        print(marks)\n",
    "        \n",
    "s = student()\n",
    "s.info(\"A\",34)\n",
    "s.__detail(90)"
   ]
  },
  {
   "cell_type": "code",
   "execution_count": 16,
   "id": "26712364",
   "metadata": {},
   "outputs": [
    {
     "ename": "AttributeError",
     "evalue": "'a' object has no attribute '__greet'",
     "output_type": "error",
     "traceback": [
      "\u001b[1;31m---------------------------------------------------------------------------\u001b[0m",
      "\u001b[1;31mAttributeError\u001b[0m                            Traceback (most recent call last)",
      "\u001b[1;32m~\\AppData\\Local\\Temp/ipykernel_6196/1668644796.py\u001b[0m in \u001b[0;36m<module>\u001b[1;34m\u001b[0m\n\u001b[0;32m     11\u001b[0m \u001b[0mx\u001b[0m \u001b[1;33m=\u001b[0m \u001b[0ma\u001b[0m\u001b[1;33m(\u001b[0m\u001b[1;34m'hello'\u001b[0m\u001b[1;33m)\u001b[0m\u001b[1;33m\u001b[0m\u001b[1;33m\u001b[0m\u001b[0m\n\u001b[0;32m     12\u001b[0m \u001b[0mx\u001b[0m\u001b[1;33m.\u001b[0m\u001b[0madd\u001b[0m\u001b[1;33m(\u001b[0m\u001b[1;36m1\u001b[0m\u001b[1;33m,\u001b[0m\u001b[1;36m2\u001b[0m\u001b[1;33m)\u001b[0m\u001b[1;33m\u001b[0m\u001b[1;33m\u001b[0m\u001b[0m\n\u001b[1;32m---> 13\u001b[1;33m \u001b[0mx\u001b[0m\u001b[1;33m.\u001b[0m\u001b[0m__greet\u001b[0m\u001b[1;33m\u001b[0m\u001b[1;33m\u001b[0m\u001b[0m\n\u001b[0m",
      "\u001b[1;31mAttributeError\u001b[0m: 'a' object has no attribute '__greet'"
     ]
    }
   ],
   "source": [
    "class a:\n",
    "    def __init__(self,__greet):\n",
    "        self.__greet = __greet\n",
    "        \n",
    "    def add(self,x,y):\n",
    "        return x+y\n",
    "    \n",
    "        \n",
    "    \n",
    "        \n",
    "x = a('hello')\n",
    "x.add(1,2)\n",
    "x.__greet\n"
   ]
  },
  {
   "cell_type": "code",
   "execution_count": 21,
   "id": "02a0849a",
   "metadata": {},
   "outputs": [
    {
     "name": "stdout",
     "output_type": "stream",
     "text": [
      "2\n",
      "0\n"
     ]
    }
   ],
   "source": [
    "#protected ----> \n",
    "\n",
    "class emp:\n",
    "    def _info(self,salary,leaves):\n",
    "        print(salary)\n",
    "        print(leaves)\n",
    "        \n",
    "        \n",
    "e = emp()\n",
    "e._info(2,0)\n"
   ]
  },
  {
   "cell_type": "code",
   "execution_count": 22,
   "id": "c03a3e6a",
   "metadata": {},
   "outputs": [],
   "source": [
    "#wap to performe inheritance between two classes \n",
    "# having private and protected code to find the student is pass or fail in the \n",
    "# exam."
   ]
  },
  {
   "cell_type": "code",
   "execution_count": 34,
   "id": "7eff8715",
   "metadata": {},
   "outputs": [
    {
     "name": "stdout",
     "output_type": "stream",
     "text": [
      "pass\n"
     ]
    }
   ],
   "source": [
    "class student:\n",
    "    def __init__(self,__name,_marks):\n",
    "        self.__name = __name\n",
    "        self._marks = _marks\n",
    "    \n",
    "class student1(student):\n",
    "    def __init__(self,__name,_marks,addr):\n",
    "        super().__init__(__name,_marks)\n",
    "        self.addr = addr\n",
    "    \n",
    "    \n",
    "        if _marks>35:\n",
    "            print(\"pass\")\n",
    "        else:\n",
    "            print(\"fail\")\n",
    "        \n",
    "        \n",
    "s = student1(\"A\",56,'Delhi')"
   ]
  },
  {
   "cell_type": "code",
   "execution_count": 35,
   "id": "31c8a74b",
   "metadata": {},
   "outputs": [
    {
     "ename": "AttributeError",
     "evalue": "'student1' object has no attribute 'name'",
     "output_type": "error",
     "traceback": [
      "\u001b[1;31m---------------------------------------------------------------------------\u001b[0m",
      "\u001b[1;31mAttributeError\u001b[0m                            Traceback (most recent call last)",
      "\u001b[1;32m~\\AppData\\Local\\Temp/ipykernel_6196/3776615351.py\u001b[0m in \u001b[0;36m<module>\u001b[1;34m\u001b[0m\n\u001b[1;32m----> 1\u001b[1;33m \u001b[0ms\u001b[0m\u001b[1;33m.\u001b[0m\u001b[0mname\u001b[0m\u001b[1;33m\u001b[0m\u001b[1;33m\u001b[0m\u001b[0m\n\u001b[0m",
      "\u001b[1;31mAttributeError\u001b[0m: 'student1' object has no attribute 'name'"
     ]
    }
   ],
   "source": [
    "s.name"
   ]
  },
  {
   "cell_type": "code",
   "execution_count": 37,
   "id": "81deec5a",
   "metadata": {},
   "outputs": [
    {
     "data": {
      "text/plain": [
       "56"
      ]
     },
     "execution_count": 37,
     "metadata": {},
     "output_type": "execute_result"
    }
   ],
   "source": [
    "s._marks"
   ]
  },
  {
   "cell_type": "code",
   "execution_count": 38,
   "id": "eb19cf48",
   "metadata": {},
   "outputs": [
    {
     "data": {
      "text/plain": [
       "'Delhi'"
      ]
     },
     "execution_count": 38,
     "metadata": {},
     "output_type": "execute_result"
    }
   ],
   "source": [
    "s.addr\n"
   ]
  },
  {
   "cell_type": "code",
   "execution_count": null,
   "id": "e3368ae2",
   "metadata": {},
   "outputs": [],
   "source": [
    "#wap to find the speed of the car with respect to truck\n",
    "# 1. your dist is inherited by truck class to car class.\n",
    "# 2. your time will be in protected mode.\n",
    "# 3.none of the attribute is in public & private mode.\n",
    "# 4. find the ratio of their speed also."
   ]
  }
 ],
 "metadata": {
  "kernelspec": {
   "display_name": "Python 3 (ipykernel)",
   "language": "python",
   "name": "python3"
  },
  "language_info": {
   "codemirror_mode": {
    "name": "ipython",
    "version": 3
   },
   "file_extension": ".py",
   "mimetype": "text/x-python",
   "name": "python",
   "nbconvert_exporter": "python",
   "pygments_lexer": "ipython3",
   "version": "3.9.7"
  }
 },
 "nbformat": 4,
 "nbformat_minor": 5
}
