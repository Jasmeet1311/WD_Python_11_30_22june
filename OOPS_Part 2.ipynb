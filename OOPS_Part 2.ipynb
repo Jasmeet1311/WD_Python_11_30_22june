{
 "cells": [
  {
   "cell_type": "code",
   "execution_count": 3,
   "id": "cc7a172d",
   "metadata": {},
   "outputs": [
    {
     "name": "stdout",
     "output_type": "stream",
     "text": [
      "1560.0\n"
     ]
    }
   ],
   "source": [
    "#wap to calculate the cost of furniture which sold by a \n",
    "# shopkeeper with a heavy discount of 5% on sunday but on\n",
    "# another days there is no discount but he charge the tax of \n",
    "# 13% on the furniture.\n",
    "#try to solve this with the help of oops using function.\n",
    "\n",
    "cost = 12000\n",
    "day = 'Monday'\n",
    "if day == 'Sunday':\n",
    "    dis = (cost*5)/100\n",
    "    print(dis)\n",
    "else:\n",
    "    tax = (cost*13)/100\n",
    "    print(tax)"
   ]
  },
  {
   "cell_type": "code",
   "execution_count": 11,
   "id": "51a6aab5",
   "metadata": {},
   "outputs": [
    {
     "data": {
      "text/plain": [
       "'A'"
      ]
     },
     "execution_count": 11,
     "metadata": {},
     "output_type": "execute_result"
    }
   ],
   "source": [
    "# constructor------>\n",
    "class student:\n",
    "    def __init__(self,name,age):\n",
    "#         print(name,age)\n",
    "        self.name = name\n",
    "        self.age = age\n",
    "\n",
    "s = student(\"A\",23)\n",
    "s.name  "
   ]
  },
  {
   "cell_type": "markdown",
   "id": "da8c513c",
   "metadata": {},
   "source": [
    "# Inheritance"
   ]
  },
  {
   "cell_type": "code",
   "execution_count": 19,
   "id": "d3d5d109",
   "metadata": {},
   "outputs": [
    {
     "name": "stdout",
     "output_type": "stream",
     "text": [
      "bp aagya\n"
     ]
    },
    {
     "data": {
      "text/plain": [
       "'study ni krta'"
      ]
     },
     "execution_count": 19,
     "metadata": {},
     "output_type": "execute_result"
    }
   ],
   "source": [
    "class parent:\n",
    "    def __init__(self,bp,gussa):\n",
    "        self.bp = bp\n",
    "        self.gussa = gussa\n",
    "        \n",
    "    \n",
    "class child(parent):\n",
    "    def __init__(self,bp,gussa,study):\n",
    "        parent.__init__(self,bp,gussa)\n",
    "        self.study = study\n",
    "        \n",
    "        \n",
    "c =child(\"bp aagya\",\"guusa bhi agya\",\"study ni krta\")\n",
    "\n",
    "print(c.bp)\n",
    "c.study"
   ]
  },
  {
   "cell_type": "code",
   "execution_count": null,
   "id": "23fe9dcc",
   "metadata": {},
   "outputs": [],
   "source": [
    "#wap to inherit the speed of the car from the truck class.\n",
    "# & try to find the speed of the car where \n",
    "# the distance is 20km,\n",
    "# and time is 2hrs."
   ]
  },
  {
   "cell_type": "code",
   "execution_count": 22,
   "id": "410c3770",
   "metadata": {},
   "outputs": [],
   "source": [
    "class students:\n",
    "    def __init__(self,name,age):\n",
    "        self.name = name\n",
    "        self.age = age\n",
    "        \n",
    "class student2(students):\n",
    "    def __init__(self,name,age,marks):\n",
    "        super().__init__(name,age)\n",
    "        self.marks=marks\n",
    "        \n",
    "s = student2('A',34,90)"
   ]
  },
  {
   "cell_type": "code",
   "execution_count": 23,
   "id": "1d1f62f9",
   "metadata": {},
   "outputs": [
    {
     "data": {
      "text/plain": [
       "90"
      ]
     },
     "execution_count": 23,
     "metadata": {},
     "output_type": "execute_result"
    }
   ],
   "source": [
    "s.marks"
   ]
  },
  {
   "cell_type": "code",
   "execution_count": 37,
   "id": "2fbea8c0",
   "metadata": {},
   "outputs": [],
   "source": [
    "class Truck:\n",
    "    def __init__(self,dis,time):\n",
    "        self.dis = dis\n",
    "        self.time = time\n",
    "        \n",
    "        \n",
    "        \n",
    "class car(Truck):\n",
    "    def __init__(self,dis,time):\n",
    "        super().__init__(dis,time)\n",
    "        \n",
    "    def speed(self):\n",
    "        s = self.dis/self.time\n",
    "        print(s)\n",
    "        \n",
    "        \n",
    "c = car(200,2)"
   ]
  },
  {
   "cell_type": "code",
   "execution_count": 38,
   "id": "d7cb1eb6",
   "metadata": {},
   "outputs": [
    {
     "name": "stdout",
     "output_type": "stream",
     "text": [
      "100.0\n"
     ]
    }
   ],
   "source": [
    "c.speed()"
   ]
  },
  {
   "cell_type": "code",
   "execution_count": null,
   "id": "08f619f7",
   "metadata": {},
   "outputs": [],
   "source": []
  },
  {
   "cell_type": "code",
   "execution_count": null,
   "id": "78f542e9",
   "metadata": {},
   "outputs": [],
   "source": []
  },
  {
   "cell_type": "code",
   "execution_count": null,
   "id": "4f0beaf0",
   "metadata": {},
   "outputs": [],
   "source": []
  }
 ],
 "metadata": {
  "kernelspec": {
   "display_name": "Python 3 (ipykernel)",
   "language": "python",
   "name": "python3"
  },
  "language_info": {
   "codemirror_mode": {
    "name": "ipython",
    "version": 3
   },
   "file_extension": ".py",
   "mimetype": "text/x-python",
   "name": "python",
   "nbconvert_exporter": "python",
   "pygments_lexer": "ipython3",
   "version": "3.9.7"
  }
 },
 "nbformat": 4,
 "nbformat_minor": 5
}
