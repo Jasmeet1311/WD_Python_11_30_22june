{
 "cells": [
  {
   "cell_type": "code",
   "execution_count": 2,
   "id": "e47a73ce",
   "metadata": {},
   "outputs": [
    {
     "data": {
      "text/plain": [
       "'Kaam ni krta'"
      ]
     },
     "execution_count": 2,
     "metadata": {},
     "output_type": "execute_result"
    }
   ],
   "source": [
    "#wap to inherit the the property of phone class to another\n",
    "# phone class and you must have atleast one unique\n",
    "# property in both the classes.\n",
    "\n",
    "class nokia:\n",
    "    def __init__(self,price,model,version):\n",
    "        self.price = price\n",
    "        self.model = model\n",
    "        self.version = version\n",
    "        \n",
    "class iphone(nokia):\n",
    "    def __init__(self,price,model,version,camera):\n",
    "        super().__init__(price,model,version)\n",
    "        self.camera = camera\n",
    "        \n",
    "        \n",
    "\n",
    "i = iphone(23,'Jhndu',3.1,'Kaam ni krta')\n",
    "i.camera\n",
    "        "
   ]
  },
  {
   "cell_type": "markdown",
   "id": "9b7c82c8",
   "metadata": {},
   "source": [
    "# Multilevel Inheritance"
   ]
  },
  {
   "cell_type": "code",
   "execution_count": 3,
   "id": "45d06df8",
   "metadata": {},
   "outputs": [],
   "source": [
    "# 1.gpc to pc\n",
    "class gpc:\n",
    "    def __init__(self,name):\n",
    "        self.name = name\n",
    "    \n",
    "    \n",
    "class pc(gpc):\n",
    "    def __init__(self,name,age):\n",
    "        super().__init__(name)\n",
    "        self.age = age\n",
    "        \n",
    "    \n",
    "class cc:\n",
    "    def __init__(self,sal):\n",
    "        self.sal = sal\n",
    "        \n",
    "\n",
    "p = pc(\"A\",23)"
   ]
  },
  {
   "cell_type": "code",
   "execution_count": 4,
   "id": "5ec614f7",
   "metadata": {},
   "outputs": [
    {
     "data": {
      "text/plain": [
       "'A'"
      ]
     },
     "execution_count": 4,
     "metadata": {},
     "output_type": "execute_result"
    }
   ],
   "source": [
    "p.name"
   ]
  },
  {
   "cell_type": "code",
   "execution_count": 5,
   "id": "de576d44",
   "metadata": {},
   "outputs": [
    {
     "data": {
      "text/plain": [
       "23"
      ]
     },
     "execution_count": 5,
     "metadata": {},
     "output_type": "execute_result"
    }
   ],
   "source": [
    "p.age"
   ]
  },
  {
   "cell_type": "code",
   "execution_count": 7,
   "id": "18a72acc",
   "metadata": {},
   "outputs": [],
   "source": [
    "# 2.pc to child\n",
    "class gpc:\n",
    "    def __init__(self,name):\n",
    "        self.name = name\n",
    "    \n",
    "    \n",
    "class pc:\n",
    "    def __init__(self,age):\n",
    "#         super().__init__(name)\n",
    "        self.age = age\n",
    "        \n",
    "    \n",
    "class cc(pc):\n",
    "    def __init__(self,age,sal):\n",
    "        super().__init__(age)\n",
    "        self.sal = sal\n",
    "        \n",
    "\n",
    "p = cc(23,450000)"
   ]
  },
  {
   "cell_type": "code",
   "execution_count": 8,
   "id": "7fa62ee5",
   "metadata": {},
   "outputs": [
    {
     "data": {
      "text/plain": [
       "23"
      ]
     },
     "execution_count": 8,
     "metadata": {},
     "output_type": "execute_result"
    }
   ],
   "source": [
    "p.age"
   ]
  },
  {
   "cell_type": "code",
   "execution_count": 9,
   "id": "cd1022f8",
   "metadata": {},
   "outputs": [
    {
     "data": {
      "text/plain": [
       "450000"
      ]
     },
     "execution_count": 9,
     "metadata": {},
     "output_type": "execute_result"
    }
   ],
   "source": [
    "p.sal"
   ]
  },
  {
   "cell_type": "code",
   "execution_count": 11,
   "id": "69f3e4cd",
   "metadata": {},
   "outputs": [],
   "source": [
    "# 3.gpc to cc\n",
    "class gpc:\n",
    "    def __init__(self,name):\n",
    "        self.name = name\n",
    "    \n",
    "    \n",
    "class pc:\n",
    "    def __init__(self,age):\n",
    "#         super().__init__(name)\n",
    "        self.age = age\n",
    "        \n",
    "    \n",
    "class cc(gpc):\n",
    "    def __init__(self,name,sal):\n",
    "        super().__init__(name)\n",
    "        self.sal = sal\n",
    "        \n",
    "\n",
    "p = cc(\"A\",23000)"
   ]
  },
  {
   "cell_type": "code",
   "execution_count": 12,
   "id": "e813f43f",
   "metadata": {},
   "outputs": [
    {
     "data": {
      "text/plain": [
       "'A'"
      ]
     },
     "execution_count": 12,
     "metadata": {},
     "output_type": "execute_result"
    }
   ],
   "source": [
    "p.name"
   ]
  },
  {
   "cell_type": "code",
   "execution_count": 13,
   "id": "6261fe6c",
   "metadata": {},
   "outputs": [
    {
     "data": {
      "text/plain": [
       "23000"
      ]
     },
     "execution_count": 13,
     "metadata": {},
     "output_type": "execute_result"
    }
   ],
   "source": [
    "p.sal"
   ]
  },
  {
   "cell_type": "code",
   "execution_count": 14,
   "id": "1190e74c",
   "metadata": {},
   "outputs": [],
   "source": [
    "# 4.gpc to pc to cc\n",
    "class gpc:\n",
    "    def __init__(self,name):\n",
    "        self.name = name\n",
    "    \n",
    "    \n",
    "class pc(gpc):\n",
    "    def __init__(self,name,age):\n",
    "        super().__init__(name)\n",
    "        self.age = age\n",
    "        \n",
    "    \n",
    "class cc(pc):\n",
    "    def __init__(self,name,age,sal):\n",
    "        super().__init__(name,age)\n",
    "        self.sal = sal\n",
    "        \n",
    "\n",
    "p = cc(\"JC\",34,90000)"
   ]
  },
  {
   "cell_type": "code",
   "execution_count": 15,
   "id": "06e5701a",
   "metadata": {},
   "outputs": [
    {
     "data": {
      "text/plain": [
       "'JC'"
      ]
     },
     "execution_count": 15,
     "metadata": {},
     "output_type": "execute_result"
    }
   ],
   "source": [
    "p.name"
   ]
  },
  {
   "cell_type": "code",
   "execution_count": 16,
   "id": "8949b2f5",
   "metadata": {},
   "outputs": [
    {
     "data": {
      "text/plain": [
       "34"
      ]
     },
     "execution_count": 16,
     "metadata": {},
     "output_type": "execute_result"
    }
   ],
   "source": [
    "p.age"
   ]
  },
  {
   "cell_type": "code",
   "execution_count": 17,
   "id": "22874fa7",
   "metadata": {},
   "outputs": [
    {
     "data": {
      "text/plain": [
       "90000"
      ]
     },
     "execution_count": 17,
     "metadata": {},
     "output_type": "execute_result"
    }
   ],
   "source": [
    "p.sal"
   ]
  },
  {
   "cell_type": "code",
   "execution_count": 36,
   "id": "b53aa390",
   "metadata": {},
   "outputs": [
    {
     "ename": "TypeError",
     "evalue": "super() argument 1 must be type, not str",
     "output_type": "error",
     "traceback": [
      "\u001b[1;31m---------------------------------------------------------------------------\u001b[0m",
      "\u001b[1;31mTypeError\u001b[0m                                 Traceback (most recent call last)",
      "\u001b[1;32m~\\AppData\\Local\\Temp/ipykernel_6460/501090443.py\u001b[0m in \u001b[0;36m<module>\u001b[1;34m\u001b[0m\n\u001b[0;32m     20\u001b[0m \u001b[1;33m\u001b[0m\u001b[0m\n\u001b[0;32m     21\u001b[0m \u001b[1;33m\u001b[0m\u001b[0m\n\u001b[1;32m---> 22\u001b[1;33m \u001b[0mp\u001b[0m \u001b[1;33m=\u001b[0m \u001b[0mcc\u001b[0m\u001b[1;33m(\u001b[0m\u001b[1;34m\"A\"\u001b[0m\u001b[1;33m,\u001b[0m\u001b[1;36m23\u001b[0m\u001b[1;33m,\u001b[0m\u001b[1;36m78000\u001b[0m\u001b[1;33m)\u001b[0m\u001b[1;33m\u001b[0m\u001b[1;33m\u001b[0m\u001b[0m\n\u001b[0m",
      "\u001b[1;32m~\\AppData\\Local\\Temp/ipykernel_6460/501090443.py\u001b[0m in \u001b[0;36m__init__\u001b[1;34m(self, name, age, sal)\u001b[0m\n\u001b[0;32m     15\u001b[0m \u001b[1;32mclass\u001b[0m \u001b[0mcc\u001b[0m\u001b[1;33m(\u001b[0m\u001b[0mgpc\u001b[0m\u001b[1;33m,\u001b[0m\u001b[0mpc\u001b[0m\u001b[1;33m)\u001b[0m\u001b[1;33m:\u001b[0m\u001b[1;33m\u001b[0m\u001b[1;33m\u001b[0m\u001b[0m\n\u001b[0;32m     16\u001b[0m     \u001b[1;32mdef\u001b[0m \u001b[0m__init__\u001b[0m\u001b[1;33m(\u001b[0m\u001b[0mself\u001b[0m\u001b[1;33m,\u001b[0m\u001b[0mname\u001b[0m\u001b[1;33m,\u001b[0m\u001b[0mage\u001b[0m\u001b[1;33m,\u001b[0m\u001b[0msal\u001b[0m\u001b[1;33m)\u001b[0m\u001b[1;33m:\u001b[0m\u001b[1;33m\u001b[0m\u001b[1;33m\u001b[0m\u001b[0m\n\u001b[1;32m---> 17\u001b[1;33m         \u001b[0msuper\u001b[0m\u001b[1;33m(\u001b[0m\u001b[0mgpc\u001b[0m\u001b[1;33m)\u001b[0m\u001b[1;33m.\u001b[0m\u001b[0m__init__\u001b[0m\u001b[1;33m(\u001b[0m\u001b[0mname\u001b[0m\u001b[1;33m)\u001b[0m\u001b[1;33m\u001b[0m\u001b[1;33m\u001b[0m\u001b[0m\n\u001b[0m\u001b[0;32m     18\u001b[0m         \u001b[0msuper\u001b[0m\u001b[1;33m(\u001b[0m\u001b[1;33m)\u001b[0m\u001b[1;33m.\u001b[0m\u001b[0m__init__\u001b[0m\u001b[1;33m(\u001b[0m\u001b[0mage\u001b[0m\u001b[1;33m)\u001b[0m\u001b[1;33m\u001b[0m\u001b[1;33m\u001b[0m\u001b[0m\n\u001b[0;32m     19\u001b[0m         \u001b[0mself\u001b[0m\u001b[1;33m.\u001b[0m\u001b[0msal\u001b[0m \u001b[1;33m=\u001b[0m \u001b[0msal\u001b[0m\u001b[1;33m\u001b[0m\u001b[1;33m\u001b[0m\u001b[0m\n",
      "\u001b[1;31mTypeError\u001b[0m: super() argument 1 must be type, not str"
     ]
    }
   ],
   "source": [
    "#wap to make a inheritance using hybrid solution.\n",
    "\n",
    "\n",
    "# hybrid sol.\n",
    "class gpc:\n",
    "    def __init__(self,name):\n",
    "        self.name = name\n",
    "    \n",
    "    \n",
    "class pc:\n",
    "    def __init__(self,age):\n",
    "        self.age = age\n",
    "        \n",
    "    \n",
    "class cc(gpc,pc):\n",
    "    def __init__(self,name,age,sal):\n",
    "        super().__init__(name)\n",
    "        super().__init__(age)\n",
    "        self.sal = sal\n",
    "        \n",
    "\n",
    "p = cc(\"A\",23,78000)"
   ]
  },
  {
   "cell_type": "code",
   "execution_count": 37,
   "id": "8979f95d",
   "metadata": {},
   "outputs": [
    {
     "ename": "AttributeError",
     "evalue": "'cc' object has no attribute 'age'",
     "output_type": "error",
     "traceback": [
      "\u001b[1;31m---------------------------------------------------------------------------\u001b[0m",
      "\u001b[1;31mAttributeError\u001b[0m                            Traceback (most recent call last)",
      "\u001b[1;32m~\\AppData\\Local\\Temp/ipykernel_6460/3987282011.py\u001b[0m in \u001b[0;36m<module>\u001b[1;34m\u001b[0m\n\u001b[1;32m----> 1\u001b[1;33m \u001b[0mp\u001b[0m\u001b[1;33m.\u001b[0m\u001b[0mage\u001b[0m\u001b[1;33m\u001b[0m\u001b[1;33m\u001b[0m\u001b[0m\n\u001b[0m",
      "\u001b[1;31mAttributeError\u001b[0m: 'cc' object has no attribute 'age'"
     ]
    }
   ],
   "source": [
    "p.age"
   ]
  },
  {
   "cell_type": "code",
   "execution_count": null,
   "id": "febcf317",
   "metadata": {},
   "outputs": [],
   "source": []
  }
 ],
 "metadata": {
  "kernelspec": {
   "display_name": "Python 3 (ipykernel)",
   "language": "python",
   "name": "python3"
  },
  "language_info": {
   "codemirror_mode": {
    "name": "ipython",
    "version": 3
   },
   "file_extension": ".py",
   "mimetype": "text/x-python",
   "name": "python",
   "nbconvert_exporter": "python",
   "pygments_lexer": "ipython3",
   "version": "3.9.7"
  }
 },
 "nbformat": 4,
 "nbformat_minor": 5
}
