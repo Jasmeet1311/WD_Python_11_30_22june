{
 "cells": [
  {
   "cell_type": "code",
   "execution_count": 28,
   "id": "fac62705",
   "metadata": {},
   "outputs": [
    {
     "name": "stdout",
     "output_type": "stream",
     "text": [
      "Prime number\n"
     ]
    }
   ],
   "source": [
    "# Prime number\n",
    "num = 41\n",
    "if num>1:\n",
    "#     check the factor\n",
    "    for i in range(2,num):\n",
    "        if num % i == 0:\n",
    "            print(num,\"is not prime\")\n",
    "            break\n",
    "    else:\n",
    "        print(\"Prime number\")      \n",
    "else:\n",
    "    print(num,\"not prime\")\n"
   ]
  },
  {
   "cell_type": "code",
   "execution_count": 34,
   "id": "d8eab2d9",
   "metadata": {},
   "outputs": [
    {
     "data": {
      "text/plain": [
       "'mai hu apple'"
      ]
     },
     "execution_count": 34,
     "metadata": {},
     "output_type": "execute_result"
    }
   ],
   "source": [
    "class apple:\n",
    "    a = 'mai hu apple'\n",
    "    \n",
    "x = apple()\n",
    "x.a"
   ]
  },
  {
   "cell_type": "code",
   "execution_count": 39,
   "id": "06cbe45d",
   "metadata": {},
   "outputs": [
    {
     "data": {
      "text/plain": [
       "6"
      ]
     },
     "execution_count": 39,
     "metadata": {},
     "output_type": "execute_result"
    }
   ],
   "source": [
    "class student:\n",
    "    def fun(self,x,y,z):\n",
    "        result = x+y+z\n",
    "        return result\n",
    "    \n",
    "s = student()\n",
    "s.fun(1,2,3)"
   ]
  },
  {
   "cell_type": "code",
   "execution_count": 43,
   "id": "3a9022e7",
   "metadata": {},
   "outputs": [
    {
     "name": "stdout",
     "output_type": "stream",
     "text": [
      "1035.0\n"
     ]
    }
   ],
   "source": [
    "#wap to find the cost of furniture if you visit the shop\n",
    "# on even days then you will be offered a discount of \n",
    "# 20% and if you visit the shop on odd days then there is \n",
    "# extra chrges of 3.5% on the total cost.find the cost\n",
    "# with the help of oops using function.\n",
    "\n",
    "class furniture:\n",
    "    def fur(self,price,day):\n",
    "        if day % 2 == 0:\n",
    "            dis = (price*20)/100\n",
    "            t_price = price - dis\n",
    "            print(t_price)\n",
    "        else:\n",
    "            extra_chrge = (price *3.5)/100\n",
    "            total_price = price + extra_chrge\n",
    "            print(total_price)\n",
    "            \n",
    "f = furniture()\n",
    "f.fur(1000,21)\n",
    "    "
   ]
  },
  {
   "cell_type": "code",
   "execution_count": null,
   "id": "bcc0c492",
   "metadata": {},
   "outputs": [],
   "source": []
  },
  {
   "cell_type": "code",
   "execution_count": null,
   "id": "0b32467b",
   "metadata": {},
   "outputs": [],
   "source": []
  }
 ],
 "metadata": {
  "kernelspec": {
   "display_name": "Python 3 (ipykernel)",
   "language": "python",
   "name": "python3"
  },
  "language_info": {
   "codemirror_mode": {
    "name": "ipython",
    "version": 3
   },
   "file_extension": ".py",
   "mimetype": "text/x-python",
   "name": "python",
   "nbconvert_exporter": "python",
   "pygments_lexer": "ipython3",
   "version": "3.9.7"
  }
 },
 "nbformat": 4,
 "nbformat_minor": 5
}
